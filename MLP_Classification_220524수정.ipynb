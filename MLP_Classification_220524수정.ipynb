{
 "cells": [
  {
   "cell_type": "code",
   "execution_count": 1,
   "id": "efe958df",
   "metadata": {},
   "outputs": [],
   "source": [
    "import os\n",
    "import numpy as np\n",
    "import pandas as pd\n",
    "import matplotlib.pyplot as plt\n",
    "%matplotlib inline\n",
    "import seaborn as sns\n",
    "import random\n",
    "import sklearn\n",
    "import tensorflow as tf"
   ]
  },
  {
   "cell_type": "code",
   "execution_count": 2,
   "id": "55593880",
   "metadata": {},
   "outputs": [],
   "source": [
    "from sklearn.datasets import load_breast_cancer"
   ]
  },
  {
   "cell_type": "code",
   "execution_count": 144,
   "id": "1c3957c8",
   "metadata": {},
   "outputs": [],
   "source": [
    "random_seed = 20220517\n",
    "random.seed = random_seed\n",
    "\n",
    "np.random.seed = random_seed\n",
    "#tf.random.set_seed(random_seed)"
   ]
  },
  {
   "cell_type": "code",
   "execution_count": 145,
   "id": "c35db152",
   "metadata": {},
   "outputs": [],
   "source": [
    "breast = load_breast_cancer() # boston은 Dictionary 형태"
   ]
  },
  {
   "cell_type": "code",
   "execution_count": 146,
   "id": "8cf0f794",
   "metadata": {},
   "outputs": [],
   "source": [
    "X = pd.DataFrame(breast['data'], columns = breast['feature_names']) # Dictionary 형태를 DataFrame 형태로 변환\n",
    "Y = breast['target']"
   ]
  },
  {
   "cell_type": "code",
   "execution_count": 147,
   "id": "f29ac15a",
   "metadata": {},
   "outputs": [
    {
     "data": {
      "text/plain": [
       "(569,)"
      ]
     },
     "execution_count": 147,
     "metadata": {},
     "output_type": "execute_result"
    }
   ],
   "source": [
    "Y.shape"
   ]
  },
  {
   "cell_type": "code",
   "execution_count": 148,
   "id": "962d80ff",
   "metadata": {},
   "outputs": [
    {
     "data": {
      "text/plain": [
       "(array([0, 1]), array([212, 357], dtype=int64))"
      ]
     },
     "execution_count": 148,
     "metadata": {},
     "output_type": "execute_result"
    }
   ],
   "source": [
    "np.unique(Y, return_counts = True)"
   ]
  },
  {
   "cell_type": "code",
   "execution_count": 149,
   "id": "d28d696e",
   "metadata": {},
   "outputs": [
    {
     "data": {
      "text/plain": [
       "<AxesSubplot:ylabel='count'>"
      ]
     },
     "execution_count": 149,
     "metadata": {},
     "output_type": "execute_result"
    },
    {
     "data": {
      "image/png": "[encoded data removed]",
      "text/plain": [
       "<Figure size 432x288 with 1 Axes>"
      ]
     },
     "metadata": {
      "needs_background": "light"
     },
     "output_type": "display_data"
    }
   ],
   "source": [
    "# Y의 Data 개수를 보여줌\n",
    "sns.countplot(x=Y)"
   ]
  },
  {
   "cell_type": "code",
   "execution_count": 150,
   "id": "beede6aa",
   "metadata": {},
   "outputs": [],
   "source": [
    "from sklearn.model_selection import train_test_split"
   ]
  },
  {
   "cell_type": "code",
   "execution_count": 151,
   "id": "a2d5f67e",
   "metadata": {},
   "outputs": [],
   "source": [
    "from sklearn.preprocessing import MinMaxScaler"
   ]
  },
  {
   "cell_type": "code",
   "execution_count": 152,
   "id": "539de83c",
   "metadata": {},
   "outputs": [],
   "source": [
    "import tensorflow.keras as keras"
   ]
  },
  {
   "cell_type": "code",
   "execution_count": 169,
   "id": "5dbbc9d6",
   "metadata": {},
   "outputs": [],
   "source": [
    "Train_X, Test_X, Train_Y, Test_Y = train_test_split(X, Y, test_size = 0.2, random_state = random_seed)"
   ]
  },
  {
   "cell_type": "code",
   "execution_count": 170,
   "id": "c544794e",
   "metadata": {},
   "outputs": [],
   "source": [
    "# 얘는 두번 하면 안됨. 위의 train_test_split을 진행하고 나서 다시 실행!!\n",
    "Train_Y = keras.utils.to_categorical(Train_Y, num_classes = 2)\n",
    "Test_Y = keras.utils.to_categorical(Test_Y, num_classes = 2)"
   ]
  },
  {
   "cell_type": "markdown",
   "id": "5dfc5099",
   "metadata": {},
   "source": [
    "to_categorical()의 필요성\n",
    "\n",
    "우리가 Output을 A,B,C,D,E 5개의 클래스가 있다고 하면... 0,1,2,3,4로 나오게 되면 이것은 확률이 아님.\n",
    "따라서 우리는 확률적으로 보기 위해서 to_categorical()을 이용해서 다음과 같이 확률적 관점으로 봄\n",
    "\n",
    "    |  A  |  B  |  C   |  D  |  E  |\n",
    "    --------------------------------\n",
    "    |  1  |  0  |  0   |  0  |  0  |\n",
    "    |  0  |  1  |  0   |  0  |  0  |\n",
    "    |  0  |  0  |  1   |  0  |  0  |\n",
    "    |  0  |  0  |  0   |  1  |  0  |\n",
    "    |  0  |  0  |  0   |  0  |  1  |"
   ]
  },
  {
   "cell_type": "code",
   "execution_count": 171,
   "id": "c37e658a",
   "metadata": {},
   "outputs": [
    {
     "data": {
      "text/plain": [
       "(455, 2)"
      ]
     },
     "execution_count": 171,
     "metadata": {},
     "output_type": "execute_result"
    }
   ],
   "source": [
    "Train_Y.shape"
   ]
  },
  {
   "cell_type": "code",
   "execution_count": 172,
   "id": "0ee3de7a",
   "metadata": {},
   "outputs": [
    {
     "data": {
      "text/plain": [
       "MinMaxScaler()"
      ]
     },
     "execution_count": 172,
     "metadata": {},
     "output_type": "execute_result"
    }
   ],
   "source": [
    "scaler_X = MinMaxScaler()\n",
    "scaler_X.fit(Train_X)\n",
    "#Scaled_Test_X = scaler_X.transform(Test_X)"
   ]
  },
  {
   "cell_type": "code",
   "execution_count": 173,
   "id": "b84a5e28",
   "metadata": {},
   "outputs": [],
   "source": [
    "Scaled_Train_X = scaler_X.transform(Train_X)\n",
    "Scaled_Test_X = scaler_X.transform(Test_X)"
   ]
  },
  {
   "cell_type": "code",
   "execution_count": 174,
   "id": "180a5985",
   "metadata": {},
   "outputs": [
    {
     "data": {
      "text/plain": [
       "(569, 30)"
      ]
     },
     "execution_count": 174,
     "metadata": {},
     "output_type": "execute_result"
    }
   ],
   "source": [
    "X.shape"
   ]
  },
  {
   "cell_type": "code",
   "execution_count": 175,
   "id": "e64b2ecb",
   "metadata": {},
   "outputs": [],
   "source": [
    "tf.random.set_seed(random_seed)\n",
    "model = keras.Sequential()\n",
    "\n",
    "model.add(keras.layers.Dense(units = 5, input_shape = (30, ), activation = 'sigmoid'))\n",
    "#model.add(keras.layers.Dense(units = 5, activation = 'sigmoid'))\n",
    "model.add(keras.layers.Dense(units = 5, activation = 'sigmoid'))\n",
    "model.add(keras.layers.Dense(units = 5, activation = 'sigmoid'))\n",
    "#model.add(keras.layers.Dense(units = 1 , activation = 'sigmoid')) 마지막 레이어를 이것 말고도\n",
    "model.add(keras.layers.Dense(units = 2, activation = 'softmax'))"
   ]
  },
  {
   "cell_type": "code",
   "execution_count": 176,
   "id": "495069cd",
   "metadata": {},
   "outputs": [
    {
     "name": "stdout",
     "output_type": "stream",
     "text": [
      "Model: \"sequential_6\"\n",
      "_________________________________________________________________\n",
      " Layer (type)                Output Shape              Param #   \n",
      "=================================================================\n",
      " dense_24 (Dense)            (None, 5)                 155       \n",
      "                                                                 \n",
      " dense_25 (Dense)            (None, 5)                 30        \n",
      "                                                                 \n",
      " dense_26 (Dense)            (None, 5)                 30        \n",
      "                                                                 \n",
      " dense_27 (Dense)            (None, 2)                 12        \n",
      "                                                                 \n",
      "=================================================================\n",
      "Total params: 227\n",
      "Trainable params: 227\n",
      "Non-trainable params: 0\n",
      "_________________________________________________________________\n"
     ]
    }
   ],
   "source": [
    "model.summary()"
   ]
  },
  {
   "cell_type": "code",
   "execution_count": 177,
   "id": "3a152c03",
   "metadata": {},
   "outputs": [],
   "source": [
    "_loss = tf.keras.losses.CategoricalCrossentropy() # 우리가 사용하던 binary cross entropy와 동일하다!"
   ]
  },
  {
   "cell_type": "code",
   "execution_count": 178,
   "id": "b6cdb7f1",
   "metadata": {},
   "outputs": [],
   "source": [
    "lr = 0.1\n",
    "model.compile(loss = _loss,optimizer = keras.optimizers.SGD(learning_rate = lr))"
   ]
  },
  {
   "cell_type": "code",
   "execution_count": 179,
   "id": "04fa4ff1",
   "metadata": {},
   "outputs": [],
   "source": [
    "history = model.fit(Scaled_Train_X, Train_Y, batch_size = 32, epochs = 50, shuffle = True, verbose = 0 ,validation_split = 0.2) \n",
    "# verbose=0,1,2중 선택\n",
    "# validation_split -> validation 데이터의 비율을 결정"
   ]
  },
  {
   "cell_type": "code",
   "execution_count": 180,
   "id": "1779ce6c",
   "metadata": {},
   "outputs": [],
   "source": [
    "train_loss = history.history['loss']\n",
    "vali_loss = history.history['val_loss']"
   ]
  },
  {
   "cell_type": "code",
   "execution_count": 181,
   "id": "9abf0679",
   "metadata": {},
   "outputs": [],
   "source": [
    "epochs = range(1, len(train_loss)+1)"
   ]
  },
  {
   "cell_type": "code",
   "execution_count": 182,
   "id": "27ce8c7d",
   "metadata": {},
   "outputs": [
    {
     "data": {
      "image/png": "[encoded data removed]",
      "text/plain": [
       "<Figure size 432x288 with 1 Axes>"
      ]
     },
     "metadata": {
      "needs_background": "light"
     },
     "output_type": "display_data"
    }
   ],
   "source": [
    "plt.plot(epochs, train_loss, '--b', label = 'Trainig')\n",
    "plt.plot(epochs, vali_loss, '--r', label = 'Validation')\n",
    "plt.legend()\n",
    "plt.show()"
   ]
  },
  {
   "cell_type": "code",
   "execution_count": 183,
   "id": "377a6649",
   "metadata": {},
   "outputs": [],
   "source": [
    "pred = model.predict(Scaled_Test_X)"
   ]
  },
  {
   "cell_type": "code",
   "execution_count": 184,
   "id": "aaf929a1",
   "metadata": {},
   "outputs": [
    {
     "data": {
      "text/plain": [
       "array([[0.3687816 , 0.6312184 ],\n",
       "       [0.36740145, 0.6325986 ],\n",
       "       [0.36796367, 0.6320364 ],\n",
       "       [0.3676075 , 0.63239247],\n",
       "       [0.3679528 , 0.63204724],\n",
       "       [0.3684981 , 0.631502  ],\n",
       "       [0.36749274, 0.6325072 ],\n",
       "       [0.36768755, 0.6323124 ],\n",
       "       [0.367445  , 0.632555  ],\n",
       "       [0.36751863, 0.6324814 ],\n",
       "       [0.37007308, 0.6299269 ],\n",
       "       [0.36768883, 0.63231117],\n",
       "       [0.3682022 , 0.6317978 ],\n",
       "       [0.3689288 , 0.63107115],\n",
       "       [0.36794633, 0.63205373],\n",
       "       [0.36789247, 0.63210756],\n",
       "       [0.36843404, 0.6315659 ],\n",
       "       [0.36761832, 0.6323816 ],\n",
       "       [0.3681145 , 0.6318855 ],\n",
       "       [0.36863992, 0.6313601 ],\n",
       "       [0.3683893 , 0.6316107 ],\n",
       "       [0.36725962, 0.6327403 ],\n",
       "       [0.3682473 , 0.63175267],\n",
       "       [0.3686024 , 0.63139755],\n",
       "       [0.3683042 , 0.6316958 ],\n",
       "       [0.36856887, 0.6314311 ],\n",
       "       [0.36721763, 0.6327824 ],\n",
       "       [0.37032387, 0.6296762 ],\n",
       "       [0.36761436, 0.6323856 ],\n",
       "       [0.36775568, 0.6322443 ],\n",
       "       [0.3688266 , 0.6311733 ],\n",
       "       [0.3693456 , 0.6306544 ],\n",
       "       [0.36896703, 0.631033  ],\n",
       "       [0.36908913, 0.6309109 ],\n",
       "       [0.36754268, 0.6324573 ],\n",
       "       [0.36817992, 0.6318201 ],\n",
       "       [0.36817023, 0.6318298 ],\n",
       "       [0.36854702, 0.631453  ],\n",
       "       [0.367497  , 0.63250303],\n",
       "       [0.36771518, 0.6322848 ],\n",
       "       [0.36947381, 0.6305262 ],\n",
       "       [0.3678797 , 0.6321204 ],\n",
       "       [0.36822724, 0.63177276],\n",
       "       [0.37011817, 0.62988186],\n",
       "       [0.36872205, 0.6312779 ],\n",
       "       [0.3673723 , 0.6326277 ],\n",
       "       [0.36753538, 0.63246465],\n",
       "       [0.36801845, 0.63198155],\n",
       "       [0.3674265 , 0.63257354],\n",
       "       [0.36759368, 0.6324063 ],\n",
       "       [0.36880288, 0.6311971 ],\n",
       "       [0.36768547, 0.6323145 ],\n",
       "       [0.36864868, 0.6313513 ],\n",
       "       [0.3677904 , 0.6322096 ],\n",
       "       [0.3683456 , 0.6316544 ],\n",
       "       [0.36841652, 0.63158345],\n",
       "       [0.3692212 , 0.63077885],\n",
       "       [0.36819503, 0.631805  ],\n",
       "       [0.36946273, 0.63053733],\n",
       "       [0.36817285, 0.6318272 ],\n",
       "       [0.36823106, 0.63176894],\n",
       "       [0.3696615 , 0.6303385 ],\n",
       "       [0.36795416, 0.6320458 ],\n",
       "       [0.3677921 , 0.6322079 ],\n",
       "       [0.36764613, 0.6323539 ],\n",
       "       [0.3695637 , 0.6304363 ],\n",
       "       [0.36932018, 0.63067985],\n",
       "       [0.36906973, 0.6309303 ],\n",
       "       [0.3709706 , 0.6290294 ],\n",
       "       [0.36819017, 0.6318098 ],\n",
       "       [0.36772153, 0.6322785 ],\n",
       "       [0.367751  , 0.632249  ],\n",
       "       [0.3694566 , 0.6305434 ],\n",
       "       [0.36814764, 0.63185245],\n",
       "       [0.36918908, 0.6308109 ],\n",
       "       [0.36776626, 0.63223374],\n",
       "       [0.36776242, 0.6322376 ],\n",
       "       [0.3689512 , 0.6310488 ],\n",
       "       [0.36734426, 0.63265574],\n",
       "       [0.368707  , 0.63129306],\n",
       "       [0.3680059 , 0.63199407],\n",
       "       [0.3683332 , 0.6316668 ],\n",
       "       [0.3676167 , 0.63238335],\n",
       "       [0.36890095, 0.63109905],\n",
       "       [0.36747974, 0.63252026],\n",
       "       [0.3682337 , 0.6317663 ],\n",
       "       [0.36965272, 0.6303473 ],\n",
       "       [0.36693332, 0.63306665],\n",
       "       [0.36760926, 0.63239074],\n",
       "       [0.36898828, 0.6310117 ],\n",
       "       [0.36969817, 0.63030183],\n",
       "       [0.3684023 , 0.6315977 ],\n",
       "       [0.36746478, 0.6325353 ],\n",
       "       [0.36902687, 0.63097316],\n",
       "       [0.36730424, 0.63269573],\n",
       "       [0.36898932, 0.63101065],\n",
       "       [0.36778498, 0.632215  ],\n",
       "       [0.36924496, 0.630755  ],\n",
       "       [0.36810365, 0.6318964 ],\n",
       "       [0.36902586, 0.6309741 ],\n",
       "       [0.36846018, 0.6315398 ],\n",
       "       [0.37030464, 0.6296954 ],\n",
       "       [0.36779258, 0.63220745],\n",
       "       [0.3688601 , 0.63113993],\n",
       "       [0.36798012, 0.6320199 ],\n",
       "       [0.36931074, 0.63068926],\n",
       "       [0.36814806, 0.631852  ],\n",
       "       [0.3682293 , 0.6317707 ],\n",
       "       [0.36755767, 0.6324423 ],\n",
       "       [0.36878625, 0.6312138 ],\n",
       "       [0.36891463, 0.6310853 ],\n",
       "       [0.36972204, 0.63027793],\n",
       "       [0.36897293, 0.6310271 ],\n",
       "       [0.36764959, 0.63235044]], dtype=float32)"
      ]
     },
     "execution_count": 184,
     "metadata": {},
     "output_type": "execute_result"
    }
   ],
   "source": [
    "pred"
   ]
  },
  {
   "cell_type": "markdown",
   "id": "ab699520",
   "metadata": {},
   "source": [
    "# Multi Class - Softmax\n",
    "\n",
    "- 지금까지는 output layer에서 sigmoid function을 사용하여 이진 분류 실행\n",
    "- output layer의 크기를 범주 개수만큼 설정하고 softmax를 사용하면 다중 범주 분류(multi class classificaion) 모델로 손쉽게 변경 가능\n",
    "\n",
    "#### output이 3가지라고 하면,\n",
    "* S1 = e^z1 / (e^z1 + e^z2 + e^z3)\n",
    "* S2 = e^z2 / (e^z1 + e^z2 + e^z3)\n",
    "* S3 = e^z3 / (e^z1 + e^z2 + e^z3)"
   ]
  },
  {
   "cell_type": "markdown",
   "id": "7f21a95b",
   "metadata": {},
   "source": [
    "----"
   ]
  },
  {
   "cell_type": "markdown",
   "id": "4133f005",
   "metadata": {},
   "source": [
    "# 분류 성능 평가 측도\n",
    "### 정오 행렬(Confusion Matrix) 구축\n",
    "- 정오 행렬에서 Positive는 상황에 따라 바뀔 수 있음.\n",
    "- 그렇기 때문에 정오 행렬(TP, TN, FP, FN)가 상황에 따라 바뀔 수 있음\n",
    "\n",
    "#### >> 오분류율(Misclassification Error)\n",
    "P((실제=0, 예측=1) or (실제=1, 예측=0)) = (n01 + n10) / (n11 + n10 + n01 + n00)\n",
    "#### >> 정분류율(Accuracy = 1 - misclassification_Error)\n",
    "P((실제=0, 예측=0) or (실제=1, 예측=1)) = (n11 + n00) / (n11 + n10 + n01 + n00)\n",
    "    \n",
    "#### >> 민감도(Sensitivity, True Positive Rate), 재현율(Recall)\n",
    "P(예측=1 | 실제=1) = n11 / (n11 + n10)\n",
    "#### >> 특이도(Specificity, True Negative Rate)\n",
    "P(예측=0 | 실제=0) = n00 / (n01 + n00)\n",
    "#### >> 정밀도(Precision, Positive Predictive)\n",
    "P(실제=1 | 예측=1) = n11 / (n11 + n01)\n",
    "    \n",
    "#### >> 제 1종 오류(Type I Error, False Positive Rate)\n",
    "P(예측=1 | 실제=0) = n01 / (n01 + n00)\n",
    "#### >> 제 2종 오류(Type II Error, False Negative Rate)\n",
    "P(예측=0 | 실제=1) = n10 / (n11 + n10)\n",
    "\n",
    "#### >> 균형 정확도(Balanced Correction Rate, 민감도와 특이도의 기하평균)\n",
    "(TPR * TNR)^(1/2)\n",
    "\n",
    "#### >> F1-Measure (정밀도와 재현율의 조화 평균)\n",
    "F1_Measure = (2 * Recall * Precision) / (Recall + Precision)"
   ]
  },
  {
   "cell_type": "code",
   "execution_count": 188,
   "id": "7fb002e4",
   "metadata": {},
   "outputs": [],
   "source": [
    "p = pred.argmax(axis = 1)\n",
    "true = Test_Y.argmax(axis = 1)"
   ]
  },
  {
   "cell_type": "code",
   "execution_count": 187,
   "id": "2616ae5e",
   "metadata": {},
   "outputs": [],
   "source": [
    "from sklearn.metrics import confusion_matrix"
   ]
  },
  {
   "cell_type": "code",
   "execution_count": 192,
   "id": "4a426f1d",
   "metadata": {},
   "outputs": [
    {
     "name": "stdout",
     "output_type": "stream",
     "text": [
      "[[ 0 43]\n",
      " [ 0 71]]\n"
     ]
    }
   ],
   "source": [
    "print(confusion_matrix(y_true = true, y_pred = p , labels = [0,1]))"
   ]
  },
  {
   "cell_type": "markdown",
   "id": "8166c8d7",
   "metadata": {},
   "source": []
  },
  {
   "cell_type": "code",
   "execution_count": 194,
   "id": "d5d5fd8d",
   "metadata": {},
   "outputs": [],
   "source": [
    "from sklearn.metrics import classification_report"
   ]
  },
  {
   "cell_type": "code",
   "execution_count": 195,
   "id": "8d133004",
   "metadata": {},
   "outputs": [
    {
     "name": "stdout",
     "output_type": "stream",
     "text": [
      "              precision    recall  f1-score   support\n",
      "\n",
      "           0       0.00      0.00      0.00        43\n",
      "           1       0.62      1.00      0.77        71\n",
      "\n",
      "    accuracy                           0.62       114\n",
      "   macro avg       0.31      0.50      0.38       114\n",
      "weighted avg       0.39      0.62      0.48       114\n",
      "\n"
     ]
    },
    {
     "name": "stderr",
     "output_type": "stream",
     "text": [
      "C:\\Users\\User\\anaconda3\\lib\\site-packages\\sklearn\\metrics\\_classification.py:1245: UndefinedMetricWarning: Precision and F-score are ill-defined and being set to 0.0 in labels with no predicted samples. Use `zero_division` parameter to control this behavior.\n",
      "  _warn_prf(average, modifier, msg_start, len(result))\n",
      "C:\\Users\\User\\anaconda3\\lib\\site-packages\\sklearn\\metrics\\_classification.py:1245: UndefinedMetricWarning: Precision and F-score are ill-defined and being set to 0.0 in labels with no predicted samples. Use `zero_division` parameter to control this behavior.\n",
      "  _warn_prf(average, modifier, msg_start, len(result))\n",
      "C:\\Users\\User\\anaconda3\\lib\\site-packages\\sklearn\\metrics\\_classification.py:1245: UndefinedMetricWarning: Precision and F-score are ill-defined and being set to 0.0 in labels with no predicted samples. Use `zero_division` parameter to control this behavior.\n",
      "  _warn_prf(average, modifier, msg_start, len(result))\n"
     ]
    }
   ],
   "source": [
    "print(classification_report(y_true = true, y_pred = p))"
   ]
  },
  {
   "cell_type": "markdown",
   "id": "f2797bf5",
   "metadata": {},
   "source": [
    "## 결과\n",
    "\n",
    "### 1) 만족한다\n",
    "\n",
    "### 2) 불만족한다\n",
    "    \n",
    "    [2-1] 어떻게 개선할 것인지? "
   ]
  },
  {
   "cell_type": "markdown",
   "id": "e67459c5",
   "metadata": {},
   "source": [
    "----\n",
    "### 여기서 끝이 아님을 기억하자.\n",
    "### 이제부터 Performance를 끌어올려야 함!"
   ]
  },
  {
   "cell_type": "code",
   "execution_count": null,
   "id": "15cb11bc",
   "metadata": {},
   "outputs": [],
   "source": []
  }
 ],
 "metadata": {
  "kernelspec": {
   "display_name": "Python 3",
   "language": "python",
   "name": "python3"
  },
  "language_info": {
   "codemirror_mode": {
    "name": "ipython",
    "version": 3
   },
   "file_extension": ".py",
   "mimetype": "text/x-python",
   "name": "python",
   "nbconvert_exporter": "python",
   "pygments_lexer": "ipython3",
   "version": "3.8.8"
  }
 },
 "nbformat": 4,
 "nbformat_minor": 5
}
