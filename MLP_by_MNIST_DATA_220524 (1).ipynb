{
 "cells": [
  {
   "cell_type": "code",
   "execution_count": 1,
   "id": "3efe775b",
   "metadata": {},
   "outputs": [],
   "source": [
    "import os\n",
    "import numpy as np\n",
    "import pandas as pd\n",
    "import matplotlib.pyplot as plt\n",
    "%matplotlib inline\n",
    "import seaborn as sns\n",
    "import random\n",
    "import sklearn\n",
    "import tensorflow as tf"
   ]
  },
  {
   "cell_type": "code",
   "execution_count": 2,
   "id": "ed92c85e",
   "metadata": {},
   "outputs": [],
   "source": [
    "from sklearn.datasets import fetch_openml"
   ]
  },
  {
   "cell_type": "code",
   "execution_count": 5,
   "id": "a210eafd",
   "metadata": {},
   "outputs": [],
   "source": [
    "from sklearn.model_selection import train_test_split"
   ]
  },
  {
   "cell_type": "code",
   "execution_count": 6,
   "id": "bdd082f2",
   "metadata": {},
   "outputs": [
    {
     "data": {
      "text/plain": [
       "((70000, 784), (70000,))"
      ]
     },
     "execution_count": 6,
     "metadata": {},
     "output_type": "execute_result"
    }
   ],
   "source": [
    "mnist = fetch_openml('mnist_784')\n",
    "mnist.data.shape, mnist.target.shape"
   ]
  },
  {
   "cell_type": "code",
   "execution_count": 7,
   "id": "7e1adbac",
   "metadata": {},
   "outputs": [],
   "source": [
    "# 픽셀 하나 하나를 Input으로 보겠다.\n",
    "X = mnist.data\n",
    "Y = mnist.target"
   ]
  },
  {
   "cell_type": "code",
   "execution_count": 8,
   "id": "e9259941",
   "metadata": {},
   "outputs": [
    {
     "data": {
      "text/plain": [
       "(array(['0', '1', '2', '3', '4', '5', '6', '7', '8', '9'], dtype=object),\n",
       " array([6903, 7877, 6990, 7141, 6824, 6313, 6876, 7293, 6825, 6958],\n",
       "       dtype=int64))"
      ]
     },
     "execution_count": 8,
     "metadata": {},
     "output_type": "execute_result"
    }
   ],
   "source": [
    "np.unique(Y, return_counts = True)"
   ]
  },
  {
   "cell_type": "code",
   "execution_count": 9,
   "id": "6a6851eb",
   "metadata": {},
   "outputs": [
    {
     "name": "stderr",
     "output_type": "stream",
     "text": [
      "C:\\Users\\User\\anaconda3\\lib\\site-packages\\seaborn\\_decorators.py:36: FutureWarning: Pass the following variable as a keyword arg: x. From version 0.12, the only valid positional argument will be `data`, and passing other arguments without an explicit keyword will result in an error or misinterpretation.\n",
      "  warnings.warn(\n"
     ]
    },
    {
     "data": {
      "text/plain": [
       "<AxesSubplot:xlabel='class', ylabel='count'>"
      ]
     },
     "execution_count": 9,
     "metadata": {},
     "output_type": "execute_result"
    },
    {
     "data": {
      "image/png": "[encoded data removed]",
      "text/plain": [
       "<Figure size 432x288 with 1 Axes>"
      ]
     },
     "metadata": {
      "needs_background": "light"
     },
     "output_type": "display_data"
    }
   ],
   "source": [
    "sns.countplot(Y)"
   ]
  },
  {
   "cell_type": "code",
   "execution_count": 10,
   "id": "ba54c08c",
   "metadata": {},
   "outputs": [],
   "source": [
    "random_seed = 20220517\n",
    "random.seed = random_seed\n",
    "\n",
    "np.random.seed = random_seed\n",
    "#tf.random.set_seed(random_seed)"
   ]
  },
  {
   "cell_type": "code",
   "execution_count": 12,
   "id": "c4c43bf0",
   "metadata": {},
   "outputs": [],
   "source": [
    "Train_X, Test_X, Train_Y, Test_Y = train_test_split(X, Y, test_size = 0.2, random_state = random_seed )"
   ]
  },
  {
   "cell_type": "code",
   "execution_count": 11,
   "id": "206e2a9b",
   "metadata": {},
   "outputs": [],
   "source": [
    "from sklearn.preprocessing import MinMaxScaler\n",
    "import tensorflow.keras as keras\n"
   ]
  },
  {
   "cell_type": "code",
   "execution_count": 13,
   "id": "a86d23e9",
   "metadata": {},
   "outputs": [],
   "source": [
    "Train_Y = keras.utils.to_categorical(Train_Y, num_classes = 10)"
   ]
  },
  {
   "cell_type": "code",
   "execution_count": 14,
   "id": "d89e0e95",
   "metadata": {},
   "outputs": [
    {
     "data": {
      "text/plain": [
       "MinMaxScaler()"
      ]
     },
     "execution_count": 14,
     "metadata": {},
     "output_type": "execute_result"
    }
   ],
   "source": [
    "scaler_X = MinMaxScaler()\n",
    "scaler_X.fit(Train_X)\n",
    "#Scaled_Test_X = scaler_X.transform(Test_X)"
   ]
  },
  {
   "cell_type": "code",
   "execution_count": 15,
   "id": "adb55af3",
   "metadata": {},
   "outputs": [],
   "source": [
    "Scaled_Train_X = scaler_X.transform(Train_X)\n",
    "Scaled_Test_X = scaler_X.transform(Test_X)"
   ]
  },
  {
   "cell_type": "code",
   "execution_count": 33,
   "id": "5b381240",
   "metadata": {},
   "outputs": [],
   "source": [
    "tf.random.set_seed(random_seed)\n",
    "model = keras.Sequential()\n",
    "\n",
    "model.add(keras.layers.Dense(units = 5, input_shape = (784, ), activation = 'sigmoid'))\n",
    "model.add(keras.layers.Dense(units = 5, activation = 'sigmoid'))\n",
    "model.add(keras.layers.Dense(units = 5, activation = 'sigmoid'))\n",
    "model.add(keras.layers.Dense(units = 10, activation = 'softmax'))"
   ]
  },
  {
   "cell_type": "code",
   "execution_count": 34,
   "id": "00d24867",
   "metadata": {},
   "outputs": [],
   "source": [
    "_loss = tf.keras.losses.CategoricalCrossentropy() # 우리가 사용하던 binary cross entropy와 동일하다!"
   ]
  },
  {
   "cell_type": "code",
   "execution_count": 35,
   "id": "607b791a",
   "metadata": {},
   "outputs": [],
   "source": [
    "lr = 0.1\n",
    "model.compile(loss = _loss,optimizer = keras.optimizers.SGD(learning_rate = lr))"
   ]
  },
  {
   "cell_type": "code",
   "execution_count": 50,
   "id": "ae6c7837",
   "metadata": {},
   "outputs": [
    {
     "name": "stdout",
     "output_type": "stream",
     "text": [
      "Epoch 1/30\n",
      "1400/1400 - 1s - loss: 0.6439 - val_loss: 0.6484 - 1s/epoch - 935us/step\n",
      "Epoch 2/30\n",
      "1400/1400 - 1s - loss: 0.6299 - val_loss: 0.6521 - 1s/epoch - 933us/step\n",
      "Epoch 3/30\n",
      "1400/1400 - 1s - loss: 0.6180 - val_loss: 0.7121 - 1s/epoch - 953us/step\n",
      "Epoch 4/30\n",
      "1400/1400 - 1s - loss: 0.6045 - val_loss: 0.6337 - 1s/epoch - 948us/step\n",
      "Epoch 5/30\n",
      "1400/1400 - 1s - loss: 0.5964 - val_loss: 0.6231 - 1s/epoch - 932us/step\n",
      "Epoch 6/30\n",
      "1400/1400 - 1s - loss: 0.5872 - val_loss: 0.6228 - 1s/epoch - 937us/step\n",
      "Epoch 7/30\n",
      "1400/1400 - 1s - loss: 0.5799 - val_loss: 0.6293 - 1s/epoch - 957us/step\n",
      "Epoch 8/30\n",
      "1400/1400 - 1s - loss: 0.5730 - val_loss: 0.6113 - 1s/epoch - 929us/step\n",
      "Epoch 9/30\n",
      "1400/1400 - 1s - loss: 0.5668 - val_loss: 0.5950 - 1s/epoch - 929us/step\n",
      "Epoch 10/30\n",
      "1400/1400 - 1s - loss: 0.5599 - val_loss: 0.5988 - 1s/epoch - 960us/step\n",
      "Epoch 11/30\n",
      "1400/1400 - 1s - loss: 0.5534 - val_loss: 0.5869 - 1s/epoch - 962us/step\n",
      "Epoch 12/30\n",
      "1400/1400 - 1s - loss: 0.5468 - val_loss: 0.5996 - 1s/epoch - 960us/step\n",
      "Epoch 13/30\n",
      "1400/1400 - 1s - loss: 0.5402 - val_loss: 0.5812 - 1s/epoch - 953us/step\n",
      "Epoch 14/30\n",
      "1400/1400 - 1s - loss: 0.5344 - val_loss: 0.5710 - 1s/epoch - 952us/step\n",
      "Epoch 15/30\n",
      "1400/1400 - 1s - loss: 0.5288 - val_loss: 0.5643 - 1s/epoch - 959us/step\n",
      "Epoch 16/30\n",
      "1400/1400 - 1s - loss: 0.5218 - val_loss: 0.5699 - 1s/epoch - 951us/step\n",
      "Epoch 17/30\n",
      "1400/1400 - 1s - loss: 0.5161 - val_loss: 0.5569 - 1s/epoch - 958us/step\n",
      "Epoch 18/30\n",
      "1400/1400 - 1s - loss: 0.5106 - val_loss: 0.5539 - 1s/epoch - 946us/step\n",
      "Epoch 19/30\n",
      "1400/1400 - 1s - loss: 0.5037 - val_loss: 0.5534 - 1s/epoch - 954us/step\n",
      "Epoch 20/30\n",
      "1400/1400 - 1s - loss: 0.4997 - val_loss: 0.5478 - 1s/epoch - 944us/step\n",
      "Epoch 21/30\n",
      "1400/1400 - 1s - loss: 0.4936 - val_loss: 0.5522 - 1s/epoch - 950us/step\n",
      "Epoch 22/30\n",
      "1400/1400 - 1s - loss: 0.4911 - val_loss: 0.5302 - 1s/epoch - 944us/step\n",
      "Epoch 23/30\n",
      "1400/1400 - 1s - loss: 0.4855 - val_loss: 0.5432 - 1s/epoch - 945us/step\n",
      "Epoch 24/30\n",
      "1400/1400 - 1s - loss: 0.4816 - val_loss: 0.5401 - 1s/epoch - 956us/step\n",
      "Epoch 25/30\n",
      "1400/1400 - 1s - loss: 0.4789 - val_loss: 0.5252 - 1s/epoch - 955us/step\n",
      "Epoch 26/30\n",
      "1400/1400 - 1s - loss: 0.4756 - val_loss: 0.5219 - 1s/epoch - 943us/step\n",
      "Epoch 27/30\n",
      "1400/1400 - 1s - loss: 0.4747 - val_loss: 0.5316 - 1s/epoch - 961us/step\n",
      "Epoch 28/30\n",
      "1400/1400 - 1s - loss: 0.4716 - val_loss: 0.5231 - 1s/epoch - 947us/step\n",
      "Epoch 29/30\n",
      "1400/1400 - 1s - loss: 0.4690 - val_loss: 0.5269 - 1s/epoch - 963us/step\n",
      "Epoch 30/30\n",
      "1400/1400 - 1s - loss: 0.4679 - val_loss: 0.5390 - 1s/epoch - 968us/step\n"
     ]
    }
   ],
   "source": [
    "history = model.fit(Scaled_Train_X, Train_Y, batch_size = 32, epochs = 30, shuffle = True, verbose = 2 ,validation_split = 0.2) \n",
    "# verbose=0,1,2중 선택\n",
    "# validation_split -> validation 데이터의 비율을 결정"
   ]
  },
  {
   "cell_type": "code",
   "execution_count": 51,
   "id": "851e8faf",
   "metadata": {},
   "outputs": [],
   "source": [
    "train_loss = history.history['loss']\n",
    "vali_loss = history.history['val_loss']"
   ]
  },
  {
   "cell_type": "code",
   "execution_count": 52,
   "id": "0dcd4867",
   "metadata": {},
   "outputs": [],
   "source": [
    "epochs = range(1, len(train_loss)+1)"
   ]
  },
  {
   "cell_type": "code",
   "execution_count": 53,
   "id": "3ffb19d7",
   "metadata": {},
   "outputs": [
    {
     "data": {
      "image/png": "[encoded data removed]",
      "text/plain": [
       "<Figure size 432x288 with 1 Axes>"
      ]
     },
     "metadata": {
      "needs_background": "light"
     },
     "output_type": "display_data"
    }
   ],
   "source": [
    "plt.plot(epochs, train_loss, '--b', label = 'Trainig')\n",
    "plt.plot(epochs, vali_loss, '--r', label = 'Validation')\n",
    "plt.legend()\n",
    "plt.show()"
   ]
  },
  {
   "cell_type": "code",
   "execution_count": 54,
   "id": "788cc45b",
   "metadata": {},
   "outputs": [],
   "source": [
    "pred = model.predict(Scaled_Test_X)"
   ]
  },
  {
   "cell_type": "code",
   "execution_count": 55,
   "id": "161ebc9e",
   "metadata": {},
   "outputs": [],
   "source": [
    "p = pred.argmax(axis = 1)"
   ]
  },
  {
   "cell_type": "code",
   "execution_count": 56,
   "id": "9060c9c7",
   "metadata": {},
   "outputs": [],
   "source": [
    "from sklearn.metrics import confusion_matrix"
   ]
  },
  {
   "cell_type": "code",
   "execution_count": 57,
   "id": "a56521ea",
   "metadata": {},
   "outputs": [],
   "source": [
    "Test_Y = Test_Y.astype(int)"
   ]
  },
  {
   "cell_type": "code",
   "execution_count": 58,
   "id": "1b8533de",
   "metadata": {},
   "outputs": [
    {
     "name": "stdout",
     "output_type": "stream",
     "text": [
      "[[1287    2   40    2    7   17   26    4    1    0]\n",
      " [   1 1504    9    3    2    3    9    1   15    2]\n",
      " [  46    6 1143    8   22    6   66   22   77    2]\n",
      " [  23   11   33  883    0  288    5   30  162    9]\n",
      " [   3   18    3    0 1294    2   20    0    0   33]\n",
      " [  39   25   19   87   24 1055   31    4   16    5]\n",
      " [  17   13   24    0   17    8 1261    1    0    0]\n",
      " [   4    7   16    4   17    5    0 1249   18  103]\n",
      " [  10  168   45  108    6   17   22    7  969   11]\n",
      " [   6   13    9   18  160   19    1   48    8 1136]]\n"
     ]
    }
   ],
   "source": [
    "print(confusion_matrix(y_true = Test_Y, y_pred = p , labels = [0,1,2,3,4,5,6,7,8,9]))"
   ]
  },
  {
   "cell_type": "code",
   "execution_count": 59,
   "id": "e4c70bf9",
   "metadata": {},
   "outputs": [],
   "source": [
    "from sklearn.metrics import classification_report"
   ]
  },
  {
   "cell_type": "code",
   "execution_count": 60,
   "id": "e9893ce3",
   "metadata": {},
   "outputs": [
    {
     "name": "stdout",
     "output_type": "stream",
     "text": [
      "              precision    recall  f1-score   support\n",
      "\n",
      "           0       0.90      0.93      0.91      1386\n",
      "           1       0.85      0.97      0.91      1549\n",
      "           2       0.85      0.82      0.83      1398\n",
      "           3       0.79      0.61      0.69      1444\n",
      "           4       0.84      0.94      0.89      1373\n",
      "           5       0.74      0.81      0.77      1305\n",
      "           6       0.88      0.94      0.91      1341\n",
      "           7       0.91      0.88      0.90      1423\n",
      "           8       0.77      0.71      0.74      1363\n",
      "           9       0.87      0.80      0.84      1418\n",
      "\n",
      "    accuracy                           0.84     14000\n",
      "   macro avg       0.84      0.84      0.84     14000\n",
      "weighted avg       0.84      0.84      0.84     14000\n",
      "\n"
     ]
    }
   ],
   "source": [
    "print(classification_report(y_true = Test_Y, y_pred = p))"
   ]
  },
  {
   "cell_type": "markdown",
   "id": "8b651192",
   "metadata": {},
   "source": [
    "----"
   ]
  },
  {
   "cell_type": "code",
   "execution_count": 61,
   "id": "9b01d92a",
   "metadata": {},
   "outputs": [],
   "source": [
    "from sklearn.linear_model import LogisticRegression"
   ]
  },
  {
   "cell_type": "code",
   "execution_count": 62,
   "id": "5c9c0ba1",
   "metadata": {},
   "outputs": [],
   "source": [
    "lgr = LogisticRegression()"
   ]
  },
  {
   "cell_type": "code",
   "execution_count": null,
   "id": "c6b6db18",
   "metadata": {},
   "outputs": [],
   "source": []
  }
 ],
 "metadata": {
  "kernelspec": {
   "display_name": "Python 3",
   "language": "python",
   "name": "python3"
  },
  "language_info": {
   "codemirror_mode": {
    "name": "ipython",
    "version": 3
   },
   "file_extension": ".py",
   "mimetype": "text/x-python",
   "name": "python",
   "nbconvert_exporter": "python",
   "pygments_lexer": "ipython3",
   "version": "3.8.8"
  }
 },
 "nbformat": 4,
 "nbformat_minor": 5
}
