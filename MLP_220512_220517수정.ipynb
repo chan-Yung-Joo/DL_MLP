{
 "cells": [
  {
   "cell_type": "code",
   "execution_count": 1,
   "id": "78ecbcb2",
   "metadata": {},
   "outputs": [],
   "source": [
    "import os\n",
    "import numpy as np\n",
    "import pandas as pd\n",
    "import matplotlib.pyplot as plt\n",
    "%matplotlib inline\n",
    "import seaborn as sns\n",
    "import random\n",
    "import sklearn\n",
    "import tensorflow as tf"
   ]
  },
  {
   "cell_type": "code",
   "execution_count": 2,
   "id": "845d27bd",
   "metadata": {},
   "outputs": [],
   "source": [
    "from sklearn.datasets import load_boston, load_breast_cancer"
   ]
  },
  {
   "cell_type": "code",
   "execution_count": 3,
   "id": "546f5624",
   "metadata": {},
   "outputs": [],
   "source": [
    "random_seed = 20220517\n",
    "random.seed = random_seed\n",
    "\n",
    "np.random.seed = random_seed\n",
    "#tf.random.set_seed(random_seed)"
   ]
  },
  {
   "cell_type": "code",
   "execution_count": 4,
   "id": "8e0590fb",
   "metadata": {},
   "outputs": [],
   "source": [
    "boston = load_boston() # boston은 Dictionary 형태"
   ]
  },
  {
   "cell_type": "code",
   "execution_count": 5,
   "id": "22027030",
   "metadata": {},
   "outputs": [],
   "source": [
    "X = pd.DataFrame(boston['data'], columns = boston['feature_names']) # Dictionary 형태를 DataFrame 형태로 변환"
   ]
  },
  {
   "cell_type": "code",
   "execution_count": 6,
   "id": "2ce3abbe",
   "metadata": {},
   "outputs": [],
   "source": [
    "Y = boston['target']"
   ]
  },
  {
   "cell_type": "code",
   "execution_count": 7,
   "id": "f5335be3",
   "metadata": {},
   "outputs": [],
   "source": [
    "from sklearn.model_selection import train_test_split"
   ]
  },
  {
   "cell_type": "code",
   "execution_count": 8,
   "id": "56e998ce",
   "metadata": {},
   "outputs": [],
   "source": [
    "from sklearn.preprocessing import MinMaxScaler\n",
    "from sklearn.preprocessing import StandardScaler"
   ]
  },
  {
   "cell_type": "code",
   "execution_count": 9,
   "id": "d9a049b1",
   "metadata": {},
   "outputs": [],
   "source": [
    "import tensorflow.keras as keras"
   ]
  },
  {
   "cell_type": "markdown",
   "id": "16688521",
   "metadata": {},
   "source": [
    "---"
   ]
  },
  {
   "cell_type": "code",
   "execution_count": 10,
   "id": "498e7381",
   "metadata": {},
   "outputs": [],
   "source": [
    "Train_X, Test_X, Train_Y, Test_Y = train_test_split(X, Y, test_size = 0.25, random_state = random_seed)"
   ]
  },
  {
   "cell_type": "code",
   "execution_count": 11,
   "id": "6e6c9dc5",
   "metadata": {},
   "outputs": [],
   "source": [
    "scaler_X = MinMaxScaler()\n",
    "scaler_Y = MinMaxScaler()"
   ]
  },
  {
   "cell_type": "code",
   "execution_count": 12,
   "id": "863bbba4",
   "metadata": {},
   "outputs": [
    {
     "data": {
      "text/plain": [
       "MinMaxScaler()"
      ]
     },
     "execution_count": 12,
     "metadata": {},
     "output_type": "execute_result"
    }
   ],
   "source": [
    "scaler_X.fit(Train_X)\n",
    "scaler_Y.fit(Train_Y.reshape(-1,1))"
   ]
  },
  {
   "cell_type": "code",
   "execution_count": 13,
   "id": "887ebf83",
   "metadata": {},
   "outputs": [],
   "source": [
    "Scaled_Train_X = scaler_X.transform(Train_X)\n",
    "Scaled_Train_Y = scaler_Y.transform(Train_Y.reshape(-1,1))\n",
    "\n",
    "Scaled_Test_X = scaler_X.transform(Test_X)"
   ]
  },
  {
   "cell_type": "markdown",
   "id": "6a947de0",
   "metadata": {},
   "source": [
    "----\n",
    "## Deep Learning Framework 사용"
   ]
  },
  {
   "cell_type": "code",
   "execution_count": 56,
   "id": "680eb01f",
   "metadata": {},
   "outputs": [],
   "source": [
    "tf.random.set_seed(random_seed)\n",
    "model = keras.Sequential()\n",
    "\n",
    "model.add(keras.layers.Dense(units = 10, input_shape = (13, ), activation = 'sigmoid'))\n",
    "model.add(keras.layers.Dense(units = 5, activation = 'sigmoid'))\n",
    "model.add(keras.layers.Dense(units = 5, activation = 'sigmoid'))\n",
    "model.add(keras.layers.Dense(units = 1 , activation = 'linear'))\n",
    "\n",
    "lr = 0.01\n",
    "model.compile(loss = 'mse', optimizer = keras.optimizers.SGD(learning_rate = lr))\n",
    "\n",
    "non_scale_history = model.fit(Train_X, Train_Y, batch_size = 32, epochs = 200, shuffle = True, verbose = 0 ,validation_split = 0.2) \n",
    "# verbose=0,1,2중 선택\n",
    "# validation_split -> validation 데이터의 비율을 결정"
   ]
  },
  {
   "cell_type": "code",
   "execution_count": 57,
   "id": "a2575901",
   "metadata": {},
   "outputs": [
    {
     "data": {
      "text/plain": [
       "dict_keys(['loss', 'val_loss'])"
      ]
     },
     "execution_count": 57,
     "metadata": {},
     "output_type": "execute_result"
    }
   ],
   "source": [
    "non_scale_history.history.keys()"
   ]
  },
  {
   "cell_type": "code",
   "execution_count": 58,
   "id": "ec60c6b6",
   "metadata": {},
   "outputs": [],
   "source": [
    "train_loss = non_scale_history.history['loss']\n",
    "vali_loss = non_scale_history.history['val_loss']"
   ]
  },
  {
   "cell_type": "code",
   "execution_count": 59,
   "id": "fc503904",
   "metadata": {},
   "outputs": [],
   "source": [
    "epochs = range(1, len(train_loss)+1)"
   ]
  },
  {
   "cell_type": "code",
   "execution_count": 60,
   "id": "53d055e0",
   "metadata": {},
   "outputs": [
    {
     "data": {
      "image/png": "[encoded data removed]",
      "text/plain": [
       "<Figure size 432x288 with 1 Axes>"
      ]
     },
     "metadata": {
      "needs_background": "light"
     },
     "output_type": "display_data"
    }
   ],
   "source": [
    "plt.plot(epochs, train_loss, '--b', label = 'Trainig')\n",
    "plt.plot(epochs, vali_loss, '--r', label = 'Validation')\n",
    "plt.legend()\n",
    "plt.show()"
   ]
  },
  {
   "cell_type": "code",
   "execution_count": 61,
   "id": "6c881336",
   "metadata": {},
   "outputs": [],
   "source": [
    "non_scale_pred = model.predict(Test_X)"
   ]
  },
  {
   "cell_type": "code",
   "execution_count": 62,
   "id": "52b88761",
   "metadata": {},
   "outputs": [],
   "source": [
    "from sklearn.metrics import mean_squared_error as mse\n",
    "from sklearn.metrics import mean_absolute_error as mae\n",
    "from sklearn.metrics import mean_absolute_percentage_error as mape"
   ]
  },
  {
   "cell_type": "code",
   "execution_count": 63,
   "id": "8b9ef917",
   "metadata": {},
   "outputs": [],
   "source": [
    "non_scaled_2layers_nn_mse = mse(y_true = Test_Y, y_pred = non_scale_pred)\n",
    "non_scaled_2layers_nn_mae = mae(y_true = Test_Y, y_pred = non_scale_pred)\n",
    "non_scaled_2layers_nn_mape = mape(y_true = Test_Y, y_pred = non_scale_pred)"
   ]
  },
  {
   "cell_type": "code",
   "execution_count": 64,
   "id": "401de033",
   "metadata": {},
   "outputs": [
    {
     "name": "stdout",
     "output_type": "stream",
     "text": [
      "Non Scaled 2 Layers Neural Network MSE : 79.831\n",
      "Non Scaled 2 Layers Neural Network MAE : 6.344\n",
      "Non Scaled 2 Layers Neural Network MAPE : 0.298\n"
     ]
    }
   ],
   "source": [
    "print(\"Non Scaled 2 Layers Neural Network MSE : {:.3f}\".format(non_scaled_2layers_nn_mse))\n",
    "print(\"Non Scaled 2 Layers Neural Network MAE : {:.3f}\".format(non_scaled_2layers_nn_mae))\n",
    "print(\"Non Scaled 2 Layers Neural Network MAPE : {:.3f}\".format(non_scaled_2layers_nn_mape))"
   ]
  },
  {
   "cell_type": "markdown",
   "id": "2fc1eba2",
   "metadata": {},
   "source": [
    "----"
   ]
  },
  {
   "cell_type": "code",
   "execution_count": 42,
   "id": "02538757",
   "metadata": {},
   "outputs": [],
   "source": [
    "from sklearn.linear_model import LinearRegression as LR"
   ]
  },
  {
   "cell_type": "code",
   "execution_count": 43,
   "id": "d7de9606",
   "metadata": {},
   "outputs": [],
   "source": [
    "lr = LR()"
   ]
  },
  {
   "cell_type": "code",
   "execution_count": 44,
   "id": "d65ffd76",
   "metadata": {},
   "outputs": [],
   "source": [
    "lr.fit(Train_X, Train_Y)\n",
    "non_scale_LR_pred = lr.predict(Test_X)"
   ]
  },
  {
   "cell_type": "code",
   "execution_count": 45,
   "id": "427cd283",
   "metadata": {},
   "outputs": [],
   "source": [
    "non_scaled_lr_mse = mse(y_true = Test_Y, y_pred = non_scale_LR_pred)\n",
    "non_scaled_lr_mae = mae(y_true = Test_Y, y_pred = non_scale_LR_pred)\n",
    "non_scaled_lr_mape = mape(y_true = Test_Y, y_pred = non_scale_LR_pred)"
   ]
  },
  {
   "cell_type": "code",
   "execution_count": 46,
   "id": "4008b273",
   "metadata": {},
   "outputs": [
    {
     "name": "stdout",
     "output_type": "stream",
     "text": [
      "Non Scaled Linear Regression MSE : 28.297\n",
      "Non Scaled Linear Regression MAE : 3.774\n",
      "Non Scaled Linear Regression MAPE : 0.188\n"
     ]
    }
   ],
   "source": [
    "print(\"Non Scaled Linear Regression MSE : {:.3f}\".format(non_scaled_lr_mse))\n",
    "print(\"Non Scaled Linear Regression MAE : {:.3f}\".format(non_scaled_lr_mae))\n",
    "print(\"Non Scaled Linear Regression MAPE : {:.3f}\".format(non_scaled_lr_mape))"
   ]
  },
  {
   "cell_type": "markdown",
   "id": "cd82d202",
   "metadata": {},
   "source": [
    "----"
   ]
  },
  {
   "cell_type": "markdown",
   "id": "3c7fd932",
   "metadata": {},
   "source": [
    "# Scaled Data로 학습"
   ]
  },
  {
   "cell_type": "code",
   "execution_count": 203,
   "id": "f4152922",
   "metadata": {},
   "outputs": [],
   "source": [
    "tf.random.set_seed(random_seed)\n",
    "model = keras.Sequential()\n",
    "\n",
    "model.add(keras.layers.Dense(units = 10, input_shape = (13, ), activation = 'sigmoid'))\n",
    "model.add(keras.layers.Dense(units = 5, activation = 'sigmoid'))\n",
    "model.add(keras.layers.Dense(units = 5, activation = 'sigmoid'))\n",
    "#model.add(keras.layers.Dense(units = 5, activation = 'sigmoid'))\n",
    "model.add(keras.layers.Dense(units = 1 , activation = 'linear'))\n",
    "\n",
    "lr = 0.01\n",
    "model.compile(loss = 'mse', optimizer = keras.optimizers.Adam(learning_rate = lr))\n",
    "\n",
    "scale_history = model.fit(Scaled_Train_X, Scaled_Train_Y, batch_size = 32, epochs = 500, shuffle = True, verbose = 0 ,validation_split = 0.2) \n",
    "# verbose=0,1,2중 선택\n",
    "# validation_split -> validation 데이터의 비율을 결정"
   ]
  },
  {
   "cell_type": "code",
   "execution_count": 204,
   "id": "95ef8f80",
   "metadata": {},
   "outputs": [],
   "source": [
    "Scaled_train_loss = scale_history.history['loss']\n",
    "Scaled_vali_loss = scale_history.history['val_loss']"
   ]
  },
  {
   "cell_type": "code",
   "execution_count": 205,
   "id": "57f4be84",
   "metadata": {},
   "outputs": [],
   "source": [
    "Scaled_epochs = range(1, len(Scaled_train_loss)+1)"
   ]
  },
  {
   "cell_type": "code",
   "execution_count": 206,
   "id": "e4dddda7",
   "metadata": {},
   "outputs": [
    {
     "data": {
      "image/png": "[encoded data removed]",
      "text/plain": [
       "<Figure size 432x288 with 1 Axes>"
      ]
     },
     "metadata": {
      "needs_background": "light"
     },
     "output_type": "display_data"
    }
   ],
   "source": [
    "plt.plot(Scaled_epochs, Scaled_train_loss, '--b', label = 'Trainig')\n",
    "plt.plot(Scaled_epochs, Scaled_vali_loss, '--r', label = 'Validation')\n",
    "plt.legend()\n",
    "plt.show()"
   ]
  },
  {
   "cell_type": "code",
   "execution_count": 207,
   "id": "7b61d90c",
   "metadata": {},
   "outputs": [],
   "source": [
    "scale_pred = model.predict(Scaled_Test_X)"
   ]
  },
  {
   "cell_type": "code",
   "execution_count": 208,
   "id": "07d0940e",
   "metadata": {},
   "outputs": [],
   "source": [
    "scale_pred = scaler_Y.inverse_transform(scale_pred)"
   ]
  },
  {
   "cell_type": "code",
   "execution_count": 209,
   "id": "eaa529ac",
   "metadata": {},
   "outputs": [],
   "source": [
    "scaled_2layers_nn_mse = mse(y_true = Test_Y, y_pred = scale_pred)\n",
    "scaled_2layers_nn_mae = mae(y_true = Test_Y, y_pred = scale_pred)\n",
    "scaled_2layers_nn_mape = mape(y_true = Test_Y, y_pred = scale_pred)"
   ]
  },
  {
   "cell_type": "code",
   "execution_count": 210,
   "id": "989a3f2c",
   "metadata": {},
   "outputs": [
    {
     "name": "stdout",
     "output_type": "stream",
     "text": [
      "Scaled 2 Layers Neural Network MSE : 10.974\n",
      "Scaled 2 Layers Neural Network MAE : 2.434\n",
      "Scaled 2 Layers Neural Network MAPE : 0.123\n"
     ]
    }
   ],
   "source": [
    "print(\"Scaled 2 Layers Neural Network MSE : {:.3f}\".format(scaled_2layers_nn_mse))\n",
    "print(\"Scaled 2 Layers Neural Network MAE : {:.3f}\".format(scaled_2layers_nn_mae))\n",
    "print(\"Scaled 2 Layers Neural Network MAPE : {:.3f}\".format(scaled_2layers_nn_mape))"
   ]
  },
  {
   "cell_type": "markdown",
   "id": "bdd7b9db",
   "metadata": {},
   "source": [
    "----"
   ]
  },
  {
   "cell_type": "code",
   "execution_count": 89,
   "id": "6e5eae85",
   "metadata": {},
   "outputs": [],
   "source": [
    "Scaled_lr = LR()"
   ]
  },
  {
   "cell_type": "code",
   "execution_count": 90,
   "id": "6ba9d80b",
   "metadata": {},
   "outputs": [],
   "source": [
    "Scaled_lr.fit(Scaled_Train_X, Scaled_Train_Y)\n",
    "scale_LR_pred = Scaled_lr.predict(Scaled_Test_X)"
   ]
  },
  {
   "cell_type": "code",
   "execution_count": 91,
   "id": "15082993",
   "metadata": {},
   "outputs": [],
   "source": [
    "scale_lr_pred = scaler_Y.inverse_transform(scale_LR_pred)"
   ]
  },
  {
   "cell_type": "code",
   "execution_count": 92,
   "id": "74c7e63d",
   "metadata": {},
   "outputs": [],
   "source": [
    "scaled_lr_mse = mse(y_true = Test_Y, y_pred = scale_lr_pred)\n",
    "scaled_lr_mae = mae(y_true = Test_Y, y_pred = scale_lr_pred)\n",
    "scaled_lr_mape = mape(y_true = Test_Y, y_pred = scale_lr_pred)"
   ]
  },
  {
   "cell_type": "code",
   "execution_count": 93,
   "id": "3882f3f9",
   "metadata": {},
   "outputs": [
    {
     "name": "stdout",
     "output_type": "stream",
     "text": [
      "Scaled Linear Regression MSE : 28.297\n",
      "Scaled Linear Regression MAE : 3.774\n",
      "Scaled Linear Regression MAPE : 0.188\n"
     ]
    }
   ],
   "source": [
    "print(\"Scaled Linear Regression MSE : {:.3f}\".format(scaled_lr_mse))\n",
    "print(\"Scaled Linear Regression MAE : {:.3f}\".format(scaled_lr_mae))\n",
    "print(\"Scaled Linear Regression MAPE : {:.3f}\".format(scaled_lr_mape))"
   ]
  },
  {
   "cell_type": "markdown",
   "id": "4f3b7972",
   "metadata": {},
   "source": [
    "----"
   ]
  },
  {
   "cell_type": "code",
   "execution_count": 195,
   "id": "d658e262",
   "metadata": {},
   "outputs": [],
   "source": [
    "from sklearn.ensemble import RandomForestRegressor"
   ]
  },
  {
   "cell_type": "code",
   "execution_count": 197,
   "id": "0292a4b4",
   "metadata": {},
   "outputs": [],
   "source": [
    "LF = RandomForestRegressor(random_state = random_seed, n_estimators = 200)"
   ]
  },
  {
   "cell_type": "code",
   "execution_count": 198,
   "id": "974c1f66",
   "metadata": {},
   "outputs": [
    {
     "name": "stderr",
     "output_type": "stream",
     "text": [
      "<ipython-input-198-9b206fb9da8b>:1: DataConversionWarning: A column-vector y was passed when a 1d array was expected. Please change the shape of y to (n_samples,), for example using ravel().\n",
      "  LF.fit(Scaled_Train_X, Scaled_Train_Y)\n"
     ]
    },
    {
     "data": {
      "text/plain": [
       "RandomForestRegressor(n_estimators=200, random_state=20220517)"
      ]
     },
     "execution_count": 198,
     "metadata": {},
     "output_type": "execute_result"
    }
   ],
   "source": [
    "LF.fit(Scaled_Train_X, Scaled_Train_Y)"
   ]
  },
  {
   "cell_type": "code",
   "execution_count": 200,
   "id": "64291f10",
   "metadata": {},
   "outputs": [],
   "source": [
    "pred_LF = LF.predict(Scaled_Test_X).reshape(-1, 1)\n",
    "pred_scale_LF = scaler_Y.inverse_transform(pred_LF)"
   ]
  },
  {
   "cell_type": "code",
   "execution_count": 202,
   "id": "576434f9",
   "metadata": {},
   "outputs": [
    {
     "name": "stdout",
     "output_type": "stream",
     "text": [
      "Scaled Random Forest MSE : 10.507\n",
      "Scaled Random Forest MAE : 2.264\n",
      "Scaled Random Forest MAPE : 0.108\n"
     ]
    }
   ],
   "source": [
    "scaled_lf_mse = mse(y_true = Test_Y, y_pred = pred_scale_LF)\n",
    "scaled_lf_mae = mae(y_true = Test_Y, y_pred = pred_scale_LF)\n",
    "scaled_lf_mape = mape(y_true = Test_Y, y_pred = pred_scale_LF)\n",
    "\n",
    "print(\"Scaled Random Forest MSE : {:.3f}\".format(scaled_lf_mse))\n",
    "print(\"Scaled Random Forest MAE : {:.3f}\".format(scaled_lf_mae))\n",
    "print(\"Scaled Random Forest MAPE : {:.3f}\".format(scaled_lf_mape))"
   ]
  },
  {
   "cell_type": "markdown",
   "id": "c8373534",
   "metadata": {},
   "source": [
    "----\n",
    "# Classification MLP"
   ]
  },
  {
   "cell_type": "code",
   "execution_count": 211,
   "id": "0f8060cb",
   "metadata": {},
   "outputs": [],
   "source": [
    "breast = load_breast_cancer() "
   ]
  },
  {
   "cell_type": "code",
   "execution_count": null,
   "id": "0e37954c",
   "metadata": {},
   "outputs": [],
   "source": []
  }
 ],
 "metadata": {
  "kernelspec": {
   "display_name": "Python 3",
   "language": "python",
   "name": "python3"
  },
  "language_info": {
   "codemirror_mode": {
    "name": "ipython",
    "version": 3
   },
   "file_extension": ".py",
   "mimetype": "text/x-python",
   "name": "python",
   "nbconvert_exporter": "python",
   "pygments_lexer": "ipython3",
   "version": "3.8.8"
  }
 },
 "nbformat": 4,
 "nbformat_minor": 5
}
