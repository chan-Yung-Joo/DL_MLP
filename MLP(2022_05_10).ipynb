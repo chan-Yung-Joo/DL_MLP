{
 "cells": [
  {
   "cell_type": "code",
   "execution_count": 9,
   "id": "c985b0d3",
   "metadata": {},
   "outputs": [],
   "source": [
    "import os\n",
    "import numpy as np\n",
    "import pandas as pd\n",
    "import matplotlib.pyplot as plt\n",
    "import sklearn\n",
    "import seaborn as sns\n",
    "import tensorflow as tf"
   ]
  },
  {
   "cell_type": "code",
   "execution_count": 10,
   "id": "83934817",
   "metadata": {},
   "outputs": [],
   "source": [
    "from sklearn.datasets import load_boston"
   ]
  },
  {
   "cell_type": "code",
   "execution_count": 12,
   "id": "4281b45b",
   "metadata": {},
   "outputs": [],
   "source": [
    "boston = load_boston() # boston은 Dictionary 형태"
   ]
  },
  {
   "cell_type": "code",
   "execution_count": 13,
   "id": "069044c2",
   "metadata": {},
   "outputs": [],
   "source": [
    "X = pd.DataFrame(boston['data'], columns = boston['feature_names']) # Dictionary 형태를 DataFrame 형태로 변환"
   ]
  },
  {
   "cell_type": "code",
   "execution_count": 14,
   "id": "26fb4370",
   "metadata": {},
   "outputs": [],
   "source": [
    "Y = boston['target']"
   ]
  },
  {
   "cell_type": "code",
   "execution_count": 15,
   "id": "f68c4a44",
   "metadata": {},
   "outputs": [
    {
     "data": {
      "text/plain": [
       "(506, 13)"
      ]
     },
     "execution_count": 15,
     "metadata": {},
     "output_type": "execute_result"
    }
   ],
   "source": [
    "X.shape"
   ]
  },
  {
   "cell_type": "code",
   "execution_count": 16,
   "id": "6e855dae",
   "metadata": {},
   "outputs": [
    {
     "data": {
      "text/html": [
       "<div>\n",
       "<style scoped>\n",
       "    .dataframe tbody tr th:only-of-type {\n",
       "        vertical-align: middle;\n",
       "    }\n",
       "\n",
       "    .dataframe tbody tr th {\n",
       "        vertical-align: top;\n",
       "    }\n",
       "\n",
       "    .dataframe thead th {\n",
       "        text-align: right;\n",
       "    }\n",
       "</style>\n",
       "<table border=\"1\" class=\"dataframe\">\n",
       "  <thead>\n",
       "    <tr style=\"text-align: right;\">\n",
       "      <th></th>\n",
       "      <th>CRIM</th>\n",
       "      <th>ZN</th>\n",
       "      <th>INDUS</th>\n",
       "      <th>CHAS</th>\n",
       "      <th>NOX</th>\n",
       "      <th>RM</th>\n",
       "      <th>AGE</th>\n",
       "      <th>DIS</th>\n",
       "      <th>RAD</th>\n",
       "      <th>TAX</th>\n",
       "      <th>PTRATIO</th>\n",
       "      <th>B</th>\n",
       "      <th>LSTAT</th>\n",
       "    </tr>\n",
       "  </thead>\n",
       "  <tbody>\n",
       "    <tr>\n",
       "      <th>0</th>\n",
       "      <td>0.00632</td>\n",
       "      <td>18.0</td>\n",
       "      <td>2.31</td>\n",
       "      <td>0.0</td>\n",
       "      <td>0.538</td>\n",
       "      <td>6.575</td>\n",
       "      <td>65.2</td>\n",
       "      <td>4.0900</td>\n",
       "      <td>1.0</td>\n",
       "      <td>296.0</td>\n",
       "      <td>15.3</td>\n",
       "      <td>396.90</td>\n",
       "      <td>4.98</td>\n",
       "    </tr>\n",
       "    <tr>\n",
       "      <th>1</th>\n",
       "      <td>0.02731</td>\n",
       "      <td>0.0</td>\n",
       "      <td>7.07</td>\n",
       "      <td>0.0</td>\n",
       "      <td>0.469</td>\n",
       "      <td>6.421</td>\n",
       "      <td>78.9</td>\n",
       "      <td>4.9671</td>\n",
       "      <td>2.0</td>\n",
       "      <td>242.0</td>\n",
       "      <td>17.8</td>\n",
       "      <td>396.90</td>\n",
       "      <td>9.14</td>\n",
       "    </tr>\n",
       "    <tr>\n",
       "      <th>2</th>\n",
       "      <td>0.02729</td>\n",
       "      <td>0.0</td>\n",
       "      <td>7.07</td>\n",
       "      <td>0.0</td>\n",
       "      <td>0.469</td>\n",
       "      <td>7.185</td>\n",
       "      <td>61.1</td>\n",
       "      <td>4.9671</td>\n",
       "      <td>2.0</td>\n",
       "      <td>242.0</td>\n",
       "      <td>17.8</td>\n",
       "      <td>392.83</td>\n",
       "      <td>4.03</td>\n",
       "    </tr>\n",
       "    <tr>\n",
       "      <th>3</th>\n",
       "      <td>0.03237</td>\n",
       "      <td>0.0</td>\n",
       "      <td>2.18</td>\n",
       "      <td>0.0</td>\n",
       "      <td>0.458</td>\n",
       "      <td>6.998</td>\n",
       "      <td>45.8</td>\n",
       "      <td>6.0622</td>\n",
       "      <td>3.0</td>\n",
       "      <td>222.0</td>\n",
       "      <td>18.7</td>\n",
       "      <td>394.63</td>\n",
       "      <td>2.94</td>\n",
       "    </tr>\n",
       "    <tr>\n",
       "      <th>4</th>\n",
       "      <td>0.06905</td>\n",
       "      <td>0.0</td>\n",
       "      <td>2.18</td>\n",
       "      <td>0.0</td>\n",
       "      <td>0.458</td>\n",
       "      <td>7.147</td>\n",
       "      <td>54.2</td>\n",
       "      <td>6.0622</td>\n",
       "      <td>3.0</td>\n",
       "      <td>222.0</td>\n",
       "      <td>18.7</td>\n",
       "      <td>396.90</td>\n",
       "      <td>5.33</td>\n",
       "    </tr>\n",
       "  </tbody>\n",
       "</table>\n",
       "</div>"
      ],
      "text/plain": [
       "      CRIM    ZN  INDUS  CHAS    NOX     RM   AGE     DIS  RAD    TAX  \\\n",
       "0  0.00632  18.0   2.31   0.0  0.538  6.575  65.2  4.0900  1.0  296.0   \n",
       "1  0.02731   0.0   7.07   0.0  0.469  6.421  78.9  4.9671  2.0  242.0   \n",
       "2  0.02729   0.0   7.07   0.0  0.469  7.185  61.1  4.9671  2.0  242.0   \n",
       "3  0.03237   0.0   2.18   0.0  0.458  6.998  45.8  6.0622  3.0  222.0   \n",
       "4  0.06905   0.0   2.18   0.0  0.458  7.147  54.2  6.0622  3.0  222.0   \n",
       "\n",
       "   PTRATIO       B  LSTAT  \n",
       "0     15.3  396.90   4.98  \n",
       "1     17.8  396.90   9.14  \n",
       "2     17.8  392.83   4.03  \n",
       "3     18.7  394.63   2.94  \n",
       "4     18.7  396.90   5.33  "
      ]
     },
     "execution_count": 16,
     "metadata": {},
     "output_type": "execute_result"
    }
   ],
   "source": [
    "X.head()"
   ]
  },
  {
   "cell_type": "markdown",
   "id": "da40b4e8",
   "metadata": {},
   "source": [
    "## Train, Test Data Split"
   ]
  },
  {
   "cell_type": "code",
   "execution_count": 17,
   "id": "29f396fb",
   "metadata": {},
   "outputs": [],
   "source": [
    "from sklearn.model_selection import train_test_split"
   ]
  },
  {
   "cell_type": "code",
   "execution_count": 19,
   "id": "c3554bb4",
   "metadata": {},
   "outputs": [],
   "source": [
    "Train_X, Test_X, Train_Y, Test_Y = train_test_split(X, Y, test_size = 0.2, random_state = 20220510)"
   ]
  },
  {
   "cell_type": "markdown",
   "id": "24a75caa",
   "metadata": {},
   "source": [
    "## Keras를 이용하자!"
   ]
  },
  {
   "cell_type": "code",
   "execution_count": 23,
   "id": "65709914",
   "metadata": {},
   "outputs": [],
   "source": [
    "import tensorflow.keras as keras"
   ]
  },
  {
   "cell_type": "code",
   "execution_count": 81,
   "id": "e10cae40",
   "metadata": {},
   "outputs": [],
   "source": [
    "# 모델의 아키텍처를 구성 by Keras\n",
    "model = keras.Sequential()"
   ]
  },
  {
   "cell_type": "code",
   "execution_count": 119,
   "id": "66683c47",
   "metadata": {},
   "outputs": [],
   "source": [
    "# Input_Layer\n",
    "model.add(keras.layers.Dense(units=3, input_shape = (13, ) ,activation = 'sigmoid')) # 선형 결합된 파라미터의 개수? -> 13 * 3 = 39개의 선형 결합"
   ]
  },
  {
   "cell_type": "code",
   "execution_count": 120,
   "id": "c4e72893",
   "metadata": {},
   "outputs": [],
   "source": [
    "# Hidden_Layer\n",
    "model.add(keras.layers.Dense(units = 3, activation = 'sigmoid'))"
   ]
  },
  {
   "cell_type": "code",
   "execution_count": 121,
   "id": "94fe7ce0",
   "metadata": {},
   "outputs": [],
   "source": [
    "# Output_Layer\n",
    "model.add(keras.layers.Dense(units = 1, activation = 'linear')) # Regression 모델이므로 activation function은 linear"
   ]
  },
  {
   "cell_type": "code",
   "execution_count": 122,
   "id": "1b278eff",
   "metadata": {},
   "outputs": [
    {
     "name": "stdout",
     "output_type": "stream",
     "text": [
      "Model: \"sequential_4\"\n",
      "_________________________________________________________________\n",
      " Layer (type)                Output Shape              Param #   \n",
      "=================================================================\n",
      " dense_23 (Dense)            (None, 3)                 42        \n",
      "                                                                 \n",
      " dense_24 (Dense)            (None, 3)                 12        \n",
      "                                                                 \n",
      " dense_25 (Dense)            (None, 1)                 4         \n",
      "                                                                 \n",
      " dense_26 (Dense)            (None, 3)                 6         \n",
      "                                                                 \n",
      " dense_27 (Dense)            (None, 3)                 12        \n",
      "                                                                 \n",
      " dense_28 (Dense)            (None, 1)                 4         \n",
      "                                                                 \n",
      " dense_29 (Dense)            (None, 3)                 6         \n",
      "                                                                 \n",
      " dense_30 (Dense)            (None, 3)                 12        \n",
      "                                                                 \n",
      " dense_31 (Dense)            (None, 1)                 4         \n",
      "                                                                 \n",
      " dense_32 (Dense)            (None, 3)                 6         \n",
      "                                                                 \n",
      " dense_33 (Dense)            (None, 3)                 12        \n",
      "                                                                 \n",
      " dense_34 (Dense)            (None, 1)                 4         \n",
      "                                                                 \n",
      "=================================================================\n",
      "Total params: 124\n",
      "Trainable params: 124\n",
      "Non-trainable params: 0\n",
      "_________________________________________________________________\n"
     ]
    }
   ],
   "source": [
    "# 아키텍처 정보를 보기\n",
    "model.summary()"
   ]
  },
  {
   "cell_type": "markdown",
   "id": "819c7e7b",
   "metadata": {},
   "source": [
    "### Loss Function을 결정\n",
    "### Optimizer를 결정 => SGD(그레디언트 계산 방법) => 최적화 문제를 무엇으로 풀 것인가?"
   ]
  },
  {
   "cell_type": "code",
   "execution_count": 123,
   "id": "5a4f7846",
   "metadata": {},
   "outputs": [],
   "source": [
    "model.compile(loss = 'mse', optimizer = keras.optimizers.SGD(learning_rate = 0.3))"
   ]
  },
  {
   "cell_type": "code",
   "execution_count": 124,
   "id": "3cb0230a",
   "metadata": {},
   "outputs": [
    {
     "name": "stdout",
     "output_type": "stream",
     "text": [
      "Epoch 1/50\n",
      "404/404 [==============================] - 1s 2ms/step - loss: 226.7894\n",
      "Epoch 2/50\n",
      "404/404 [==============================] - 1s 2ms/step - loss: 179.6039\n",
      "Epoch 3/50\n",
      "404/404 [==============================] - 1s 2ms/step - loss: 215.7837\n",
      "Epoch 4/50\n",
      "404/404 [==============================] - 1s 2ms/step - loss: 226.1342\n",
      "Epoch 5/50\n",
      "404/404 [==============================] - 1s 2ms/step - loss: 196.7750\n",
      "Epoch 6/50\n",
      "404/404 [==============================] - 1s 2ms/step - loss: 233.8540\n",
      "Epoch 7/50\n",
      "404/404 [==============================] - 1s 2ms/step - loss: 229.8561\n",
      "Epoch 8/50\n",
      "404/404 [==============================] - 1s 2ms/step - loss: 212.4578\n",
      "Epoch 9/50\n",
      "404/404 [==============================] - 1s 2ms/step - loss: 211.3828\n",
      "Epoch 10/50\n",
      "404/404 [==============================] - 1s 2ms/step - loss: 213.7664\n",
      "Epoch 11/50\n",
      "404/404 [==============================] - 1s 2ms/step - loss: 203.7249\n",
      "Epoch 12/50\n",
      "404/404 [==============================] - 1s 2ms/step - loss: 202.6128\n",
      "Epoch 13/50\n",
      "404/404 [==============================] - 1s 2ms/step - loss: 207.8335\n",
      "Epoch 14/50\n",
      "404/404 [==============================] - 1s 2ms/step - loss: 232.2326\n",
      "Epoch 15/50\n",
      "404/404 [==============================] - 1s 2ms/step - loss: 205.8156\n",
      "Epoch 16/50\n",
      "404/404 [==============================] - 1s 2ms/step - loss: 215.1499\n",
      "Epoch 17/50\n",
      "404/404 [==============================] - 1s 2ms/step - loss: 201.6993\n",
      "Epoch 18/50\n",
      "404/404 [==============================] - 1s 2ms/step - loss: 195.6681\n",
      "Epoch 19/50\n",
      "404/404 [==============================] - 1s 2ms/step - loss: 206.3475\n",
      "Epoch 20/50\n",
      "404/404 [==============================] - 1s 2ms/step - loss: 206.9451\n",
      "Epoch 21/50\n",
      "404/404 [==============================] - 1s 2ms/step - loss: 201.3910\n",
      "Epoch 22/50\n",
      "404/404 [==============================] - 1s 2ms/step - loss: 190.2901\n",
      "Epoch 23/50\n",
      "404/404 [==============================] - 1s 2ms/step - loss: 212.7054\n",
      "Epoch 24/50\n",
      "404/404 [==============================] - 1s 2ms/step - loss: 230.9057\n",
      "Epoch 25/50\n",
      "404/404 [==============================] - 1s 2ms/step - loss: 212.6661\n",
      "Epoch 26/50\n",
      "404/404 [==============================] - 1s 2ms/step - loss: 198.3993\n",
      "Epoch 27/50\n",
      "404/404 [==============================] - 1s 2ms/step - loss: 210.9195\n",
      "Epoch 28/50\n",
      "404/404 [==============================] - 1s 2ms/step - loss: 209.0694\n",
      "Epoch 29/50\n",
      "404/404 [==============================] - 1s 2ms/step - loss: 211.5828\n",
      "Epoch 30/50\n",
      "404/404 [==============================] - 1s 2ms/step - loss: 215.5646\n",
      "Epoch 31/50\n",
      "404/404 [==============================] - 1s 2ms/step - loss: 230.3145\n",
      "Epoch 32/50\n",
      "404/404 [==============================] - 1s 2ms/step - loss: 232.2494\n",
      "Epoch 33/50\n",
      "404/404 [==============================] - 1s 2ms/step - loss: 221.0470\n",
      "Epoch 34/50\n",
      "404/404 [==============================] - 1s 2ms/step - loss: 218.3992\n",
      "Epoch 35/50\n",
      "404/404 [==============================] - 1s 2ms/step - loss: 209.7430\n",
      "Epoch 36/50\n",
      "404/404 [==============================] - 1s 2ms/step - loss: 214.3967\n",
      "Epoch 37/50\n",
      "404/404 [==============================] - 1s 2ms/step - loss: 243.1527\n",
      "Epoch 38/50\n",
      "404/404 [==============================] - 1s 2ms/step - loss: 199.7558\n",
      "Epoch 39/50\n",
      "404/404 [==============================] - 1s 2ms/step - loss: 210.8993\n",
      "Epoch 40/50\n",
      "404/404 [==============================] - 1s 2ms/step - loss: 226.8623\n",
      "Epoch 41/50\n",
      "404/404 [==============================] - 1s 2ms/step - loss: 220.7326\n",
      "Epoch 42/50\n",
      "404/404 [==============================] - 1s 2ms/step - loss: 219.2162\n",
      "Epoch 43/50\n",
      "404/404 [==============================] - 1s 2ms/step - loss: 212.5396\n",
      "Epoch 44/50\n",
      "404/404 [==============================] - 1s 2ms/step - loss: 210.5396\n",
      "Epoch 45/50\n",
      "404/404 [==============================] - 1s 2ms/step - loss: 211.6841\n",
      "Epoch 46/50\n",
      "404/404 [==============================] - 1s 2ms/step - loss: 185.6964\n",
      "Epoch 47/50\n",
      "404/404 [==============================] - 1s 2ms/step - loss: 228.7396\n",
      "Epoch 48/50\n",
      "404/404 [==============================] - 1s 2ms/step - loss: 209.8527\n",
      "Epoch 49/50\n",
      "404/404 [==============================] - 1s 2ms/step - loss: 194.6330\n",
      "Epoch 50/50\n",
      "404/404 [==============================] - 1s 2ms/step - loss: 205.6617\n"
     ]
    }
   ],
   "source": [
    "history = model.fit(Train_X, Train_Y, batch_size = 1, epochs = 50)"
   ]
  },
  {
   "cell_type": "code",
   "execution_count": 125,
   "id": "c20a165f",
   "metadata": {},
   "outputs": [],
   "source": [
    "train_loss = history.history['loss']"
   ]
  },
  {
   "cell_type": "code",
   "execution_count": 126,
   "id": "27eb5e47",
   "metadata": {},
   "outputs": [
    {
     "data": {
      "image/png": "[encoded data removed]",
      "text/plain": [
       "<Figure size 432x288 with 1 Axes>"
      ]
     },
     "metadata": {
      "needs_background": "light"
     },
     "output_type": "display_data"
    }
   ],
   "source": [
    "plt.plot(train_loss, '--ob', label = 'train')\n",
    "plt.legend()\n",
    "plt.show()"
   ]
  },
  {
   "cell_type": "code",
   "execution_count": 127,
   "id": "a0c1bca3",
   "metadata": {},
   "outputs": [],
   "source": [
    "pred_Y = model.predict(Test_X)"
   ]
  },
  {
   "cell_type": "code",
   "execution_count": 128,
   "id": "0b8bca48",
   "metadata": {},
   "outputs": [
    {
     "data": {
      "text/plain": [
       "(102, 1)"
      ]
     },
     "execution_count": 128,
     "metadata": {},
     "output_type": "execute_result"
    }
   ],
   "source": [
    "pred_Y.shape"
   ]
  },
  {
   "cell_type": "code",
   "execution_count": 129,
   "id": "990003ae",
   "metadata": {},
   "outputs": [],
   "source": [
    "from sklearn.metrics import mean_squared_error as mse\n",
    "from sklearn.metrics import mean_absolute_error as mae\n",
    "from sklearn.metrics import mean_absolute_percentage_error as mape"
   ]
  },
  {
   "cell_type": "code",
   "execution_count": 130,
   "id": "0243e034",
   "metadata": {},
   "outputs": [],
   "source": [
    "mse_result = mse(Test_Y, pred_Y)\n",
    "mae_result = mae(Test_Y, pred_Y)\n",
    "mape_result = mape(Test_Y, pred_Y)"
   ]
  },
  {
   "cell_type": "code",
   "execution_count": 138,
   "id": "78a2c6fd",
   "metadata": {},
   "outputs": [
    {
     "name": "stdout",
     "output_type": "stream",
     "text": [
      "** (1) NN MSE : 96.825\n",
      "** (2) NN MAE : 8.091\n",
      "** (3) NN MAPE : 0.521\n"
     ]
    }
   ],
   "source": [
    "print(\"** (1) NN MSE : {:.3f}\".format(mse_result))\n",
    "print(\"** (2) NN MAE : {:.3f}\".format(mae_result))\n",
    "print(\"** (3) NN MAPE : {:.3f}\".format(mape_result))"
   ]
  },
  {
   "cell_type": "markdown",
   "id": "0a9a2870",
   "metadata": {},
   "source": [
    "# 다른 모델과 비교해보자"
   ]
  },
  {
   "cell_type": "code",
   "execution_count": 132,
   "id": "e6e498ca",
   "metadata": {},
   "outputs": [],
   "source": [
    "from sklearn.linear_model import LinearRegression as LR"
   ]
  },
  {
   "cell_type": "code",
   "execution_count": 133,
   "id": "d0d8a618",
   "metadata": {},
   "outputs": [],
   "source": [
    "lr = LR()"
   ]
  },
  {
   "cell_type": "code",
   "execution_count": 134,
   "id": "2dd9da98",
   "metadata": {},
   "outputs": [
    {
     "data": {
      "text/plain": [
       "LinearRegression()"
      ]
     },
     "execution_count": 134,
     "metadata": {},
     "output_type": "execute_result"
    }
   ],
   "source": [
    "lr.fit(Train_X, Train_Y)"
   ]
  },
  {
   "cell_type": "code",
   "execution_count": 135,
   "id": "fab917b3",
   "metadata": {},
   "outputs": [],
   "source": [
    "pred_Y_by_LR = lr.predict(Test_X)"
   ]
  },
  {
   "cell_type": "code",
   "execution_count": 137,
   "id": "a85b4683",
   "metadata": {},
   "outputs": [],
   "source": [
    "lr_mse_result = mse(Test_Y, pred_Y_by_LR)\n",
    "lr_mae_result = mae(Test_Y, pred_Y_by_LR)\n",
    "lr_mape_result = mape(Test_Y, pred_Y_by_LR)"
   ]
  },
  {
   "cell_type": "code",
   "execution_count": 139,
   "id": "d14097c7",
   "metadata": {},
   "outputs": [
    {
     "name": "stdout",
     "output_type": "stream",
     "text": [
      "** (1) LR MSE : 24.778\n",
      "** (2) LR MAE : 3.520\n",
      "** (3) LR MAPE : 0.197\n"
     ]
    }
   ],
   "source": [
    "print(\"** (1) LR MSE : {:.3f}\".format(lr_mse_result))\n",
    "print(\"** (2) LR MAE : {:.3f}\".format(lr_mae_result))\n",
    "print(\"** (3) LR MAPE : {:.3f}\".format(lr_mape_result))"
   ]
  },
  {
   "cell_type": "code",
   "execution_count": 140,
   "id": "71346beb",
   "metadata": {},
   "outputs": [
    {
     "name": "stdout",
     "output_type": "stream",
     "text": [
      "** (1) NN MSE : 96.825\n",
      "** (2) NN MAE : 8.091\n",
      "** (3) NN MAPE : 0.521\n"
     ]
    }
   ],
   "source": [
    "print(\"** (1) NN MSE : {:.3f}\".format(mse_result))\n",
    "print(\"** (2) NN MAE : {:.3f}\".format(mae_result))\n",
    "print(\"** (3) NN MAPE : {:.3f}\".format(mape_result))"
   ]
  },
  {
   "cell_type": "code",
   "execution_count": null,
   "id": "0eb991f8",
   "metadata": {},
   "outputs": [],
   "source": [
    "s"
   ]
  }
 ],
 "metadata": {
  "kernelspec": {
   "display_name": "Python 3 (ipykernel)",
   "language": "python",
   "name": "python3"
  },
  "language_info": {
   "codemirror_mode": {
    "name": "ipython",
    "version": 3
   },
   "file_extension": ".py",
   "mimetype": "text/x-python",
   "name": "python",
   "nbconvert_exporter": "python",
   "pygments_lexer": "ipython3",
   "version": "3.9.7"
  }
 },
 "nbformat": 4,
 "nbformat_minor": 5
}
