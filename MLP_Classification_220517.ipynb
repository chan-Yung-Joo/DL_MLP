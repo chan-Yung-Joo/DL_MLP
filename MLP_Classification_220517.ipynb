{
 "cells": [
  {
   "cell_type": "code",
   "execution_count": 1,
   "id": "efe958df",
   "metadata": {},
   "outputs": [],
   "source": [
    "import os\n",
    "import numpy as np\n",
    "import pandas as pd\n",
    "import matplotlib.pyplot as plt\n",
    "%matplotlib inline\n",
    "import seaborn as sns\n",
    "import random\n",
    "import sklearn\n",
    "import tensorflow as tf"
   ]
  },
  {
   "cell_type": "code",
   "execution_count": 2,
   "id": "55593880",
   "metadata": {},
   "outputs": [],
   "source": [
    "from sklearn.datasets import load_breast_cancer"
   ]
  },
  {
   "cell_type": "code",
   "execution_count": 3,
   "id": "1c3957c8",
   "metadata": {},
   "outputs": [],
   "source": [
    "random_seed = 20220517\n",
    "random.seed = random_seed\n",
    "\n",
    "np.random.seed = random_seed\n",
    "#tf.random.set_seed(random_seed)"
   ]
  },
  {
   "cell_type": "code",
   "execution_count": 4,
   "id": "c35db152",
   "metadata": {},
   "outputs": [],
   "source": [
    "breast = load_breast_cancer() # boston은 Dictionary 형태"
   ]
  },
  {
   "cell_type": "code",
   "execution_count": 7,
   "id": "8cf0f794",
   "metadata": {},
   "outputs": [],
   "source": [
    "X = pd.DataFrame(breast['data'], columns = breast['feature_names']) # Dictionary 형태를 DataFrame 형태로 변환\n",
    "Y = breast['target']"
   ]
  },
  {
   "cell_type": "code",
   "execution_count": 8,
   "id": "3fdfa5a2",
   "metadata": {},
   "outputs": [
    {
     "data": {
      "text/html": [
       "<div>\n",
       "<style scoped>\n",
       "    .dataframe tbody tr th:only-of-type {\n",
       "        vertical-align: middle;\n",
       "    }\n",
       "\n",
       "    .dataframe tbody tr th {\n",
       "        vertical-align: top;\n",
       "    }\n",
       "\n",
       "    .dataframe thead th {\n",
       "        text-align: right;\n",
       "    }\n",
       "</style>\n",
       "<table border=\"1\" class=\"dataframe\">\n",
       "  <thead>\n",
       "    <tr style=\"text-align: right;\">\n",
       "      <th></th>\n",
       "      <th>mean radius</th>\n",
       "      <th>mean texture</th>\n",
       "      <th>mean perimeter</th>\n",
       "      <th>mean area</th>\n",
       "      <th>mean smoothness</th>\n",
       "      <th>mean compactness</th>\n",
       "      <th>mean concavity</th>\n",
       "      <th>mean concave points</th>\n",
       "      <th>mean symmetry</th>\n",
       "      <th>mean fractal dimension</th>\n",
       "      <th>...</th>\n",
       "      <th>worst radius</th>\n",
       "      <th>worst texture</th>\n",
       "      <th>worst perimeter</th>\n",
       "      <th>worst area</th>\n",
       "      <th>worst smoothness</th>\n",
       "      <th>worst compactness</th>\n",
       "      <th>worst concavity</th>\n",
       "      <th>worst concave points</th>\n",
       "      <th>worst symmetry</th>\n",
       "      <th>worst fractal dimension</th>\n",
       "    </tr>\n",
       "  </thead>\n",
       "  <tbody>\n",
       "    <tr>\n",
       "      <th>0</th>\n",
       "      <td>17.99</td>\n",
       "      <td>10.38</td>\n",
       "      <td>122.80</td>\n",
       "      <td>1001.0</td>\n",
       "      <td>0.11840</td>\n",
       "      <td>0.27760</td>\n",
       "      <td>0.3001</td>\n",
       "      <td>0.14710</td>\n",
       "      <td>0.2419</td>\n",
       "      <td>0.07871</td>\n",
       "      <td>...</td>\n",
       "      <td>25.38</td>\n",
       "      <td>17.33</td>\n",
       "      <td>184.60</td>\n",
       "      <td>2019.0</td>\n",
       "      <td>0.1622</td>\n",
       "      <td>0.6656</td>\n",
       "      <td>0.7119</td>\n",
       "      <td>0.2654</td>\n",
       "      <td>0.4601</td>\n",
       "      <td>0.11890</td>\n",
       "    </tr>\n",
       "    <tr>\n",
       "      <th>1</th>\n",
       "      <td>20.57</td>\n",
       "      <td>17.77</td>\n",
       "      <td>132.90</td>\n",
       "      <td>1326.0</td>\n",
       "      <td>0.08474</td>\n",
       "      <td>0.07864</td>\n",
       "      <td>0.0869</td>\n",
       "      <td>0.07017</td>\n",
       "      <td>0.1812</td>\n",
       "      <td>0.05667</td>\n",
       "      <td>...</td>\n",
       "      <td>24.99</td>\n",
       "      <td>23.41</td>\n",
       "      <td>158.80</td>\n",
       "      <td>1956.0</td>\n",
       "      <td>0.1238</td>\n",
       "      <td>0.1866</td>\n",
       "      <td>0.2416</td>\n",
       "      <td>0.1860</td>\n",
       "      <td>0.2750</td>\n",
       "      <td>0.08902</td>\n",
       "    </tr>\n",
       "    <tr>\n",
       "      <th>2</th>\n",
       "      <td>19.69</td>\n",
       "      <td>21.25</td>\n",
       "      <td>130.00</td>\n",
       "      <td>1203.0</td>\n",
       "      <td>0.10960</td>\n",
       "      <td>0.15990</td>\n",
       "      <td>0.1974</td>\n",
       "      <td>0.12790</td>\n",
       "      <td>0.2069</td>\n",
       "      <td>0.05999</td>\n",
       "      <td>...</td>\n",
       "      <td>23.57</td>\n",
       "      <td>25.53</td>\n",
       "      <td>152.50</td>\n",
       "      <td>1709.0</td>\n",
       "      <td>0.1444</td>\n",
       "      <td>0.4245</td>\n",
       "      <td>0.4504</td>\n",
       "      <td>0.2430</td>\n",
       "      <td>0.3613</td>\n",
       "      <td>0.08758</td>\n",
       "    </tr>\n",
       "    <tr>\n",
       "      <th>3</th>\n",
       "      <td>11.42</td>\n",
       "      <td>20.38</td>\n",
       "      <td>77.58</td>\n",
       "      <td>386.1</td>\n",
       "      <td>0.14250</td>\n",
       "      <td>0.28390</td>\n",
       "      <td>0.2414</td>\n",
       "      <td>0.10520</td>\n",
       "      <td>0.2597</td>\n",
       "      <td>0.09744</td>\n",
       "      <td>...</td>\n",
       "      <td>14.91</td>\n",
       "      <td>26.50</td>\n",
       "      <td>98.87</td>\n",
       "      <td>567.7</td>\n",
       "      <td>0.2098</td>\n",
       "      <td>0.8663</td>\n",
       "      <td>0.6869</td>\n",
       "      <td>0.2575</td>\n",
       "      <td>0.6638</td>\n",
       "      <td>0.17300</td>\n",
       "    </tr>\n",
       "    <tr>\n",
       "      <th>4</th>\n",
       "      <td>20.29</td>\n",
       "      <td>14.34</td>\n",
       "      <td>135.10</td>\n",
       "      <td>1297.0</td>\n",
       "      <td>0.10030</td>\n",
       "      <td>0.13280</td>\n",
       "      <td>0.1980</td>\n",
       "      <td>0.10430</td>\n",
       "      <td>0.1809</td>\n",
       "      <td>0.05883</td>\n",
       "      <td>...</td>\n",
       "      <td>22.54</td>\n",
       "      <td>16.67</td>\n",
       "      <td>152.20</td>\n",
       "      <td>1575.0</td>\n",
       "      <td>0.1374</td>\n",
       "      <td>0.2050</td>\n",
       "      <td>0.4000</td>\n",
       "      <td>0.1625</td>\n",
       "      <td>0.2364</td>\n",
       "      <td>0.07678</td>\n",
       "    </tr>\n",
       "  </tbody>\n",
       "</table>\n",
       "<p>5 rows × 30 columns</p>\n",
       "</div>"
      ],
      "text/plain": [
       "   mean radius  mean texture  mean perimeter  mean area  mean smoothness  \\\n",
       "0        17.99         10.38          122.80     1001.0          0.11840   \n",
       "1        20.57         17.77          132.90     1326.0          0.08474   \n",
       "2        19.69         21.25          130.00     1203.0          0.10960   \n",
       "3        11.42         20.38           77.58      386.1          0.14250   \n",
       "4        20.29         14.34          135.10     1297.0          0.10030   \n",
       "\n",
       "   mean compactness  mean concavity  mean concave points  mean symmetry  \\\n",
       "0           0.27760          0.3001              0.14710         0.2419   \n",
       "1           0.07864          0.0869              0.07017         0.1812   \n",
       "2           0.15990          0.1974              0.12790         0.2069   \n",
       "3           0.28390          0.2414              0.10520         0.2597   \n",
       "4           0.13280          0.1980              0.10430         0.1809   \n",
       "\n",
       "   mean fractal dimension  ...  worst radius  worst texture  worst perimeter  \\\n",
       "0                 0.07871  ...         25.38          17.33           184.60   \n",
       "1                 0.05667  ...         24.99          23.41           158.80   \n",
       "2                 0.05999  ...         23.57          25.53           152.50   \n",
       "3                 0.09744  ...         14.91          26.50            98.87   \n",
       "4                 0.05883  ...         22.54          16.67           152.20   \n",
       "\n",
       "   worst area  worst smoothness  worst compactness  worst concavity  \\\n",
       "0      2019.0            0.1622             0.6656           0.7119   \n",
       "1      1956.0            0.1238             0.1866           0.2416   \n",
       "2      1709.0            0.1444             0.4245           0.4504   \n",
       "3       567.7            0.2098             0.8663           0.6869   \n",
       "4      1575.0            0.1374             0.2050           0.4000   \n",
       "\n",
       "   worst concave points  worst symmetry  worst fractal dimension  \n",
       "0                0.2654          0.4601                  0.11890  \n",
       "1                0.1860          0.2750                  0.08902  \n",
       "2                0.2430          0.3613                  0.08758  \n",
       "3                0.2575          0.6638                  0.17300  \n",
       "4                0.1625          0.2364                  0.07678  \n",
       "\n",
       "[5 rows x 30 columns]"
      ]
     },
     "execution_count": 8,
     "metadata": {},
     "output_type": "execute_result"
    }
   ],
   "source": [
    "X.head()"
   ]
  },
  {
   "cell_type": "code",
   "execution_count": 9,
   "id": "962d80ff",
   "metadata": {},
   "outputs": [
    {
     "data": {
      "text/plain": [
       "(array([0, 1]), array([212, 357], dtype=int64))"
      ]
     },
     "execution_count": 9,
     "metadata": {},
     "output_type": "execute_result"
    }
   ],
   "source": [
    "np.unique(Y, return_counts = True)"
   ]
  },
  {
   "cell_type": "code",
   "execution_count": 13,
   "id": "d28d696e",
   "metadata": {},
   "outputs": [
    {
     "data": {
      "text/plain": [
       "<AxesSubplot:ylabel='count'>"
      ]
     },
     "execution_count": 13,
     "metadata": {},
     "output_type": "execute_result"
    },
    {
     "data": {
      "image/png": "[encoded data removed]",
      "text/plain": [
       "<Figure size 432x288 with 1 Axes>"
      ]
     },
     "metadata": {
      "needs_background": "light"
     },
     "output_type": "display_data"
    }
   ],
   "source": [
    "# Y의 Data 개수를 보여줌\n",
    "sns.countplot(x=Y)"
   ]
  },
  {
   "cell_type": "code",
   "execution_count": 10,
   "id": "beede6aa",
   "metadata": {},
   "outputs": [],
   "source": [
    "from sklearn.model_selection import train_test_split"
   ]
  },
  {
   "cell_type": "code",
   "execution_count": 15,
   "id": "a2d5f67e",
   "metadata": {},
   "outputs": [],
   "source": [
    "from sklearn.preprocessing import MinMaxScaler"
   ]
  },
  {
   "cell_type": "code",
   "execution_count": 16,
   "id": "539de83c",
   "metadata": {},
   "outputs": [],
   "source": [
    "import tensorflow.keras as keras"
   ]
  },
  {
   "cell_type": "code",
   "execution_count": 17,
   "id": "5dbbc9d6",
   "metadata": {},
   "outputs": [],
   "source": [
    "Train_X, Test_X, Train_Y, Test_Y = train_test_split(X, Y, test_size = 0.25, random_state = random_seed)"
   ]
  },
  {
   "cell_type": "code",
   "execution_count": 18,
   "id": "0ee3de7a",
   "metadata": {},
   "outputs": [],
   "source": [
    "scaler_X = MinMaxScaler()\n",
    "scaler_X.fit(Train_X)\n",
    "Scaled_Test_X = scaler_X.transform(Test_X)"
   ]
  },
  {
   "cell_type": "code",
   "execution_count": 19,
   "id": "b84a5e28",
   "metadata": {},
   "outputs": [],
   "source": [
    "Scaled_Train_X = scaler_X.transform(Train_X)\n",
    "Scaled_Test_X = scaler_X.transform(Test_X)"
   ]
  },
  {
   "cell_type": "code",
   "execution_count": 21,
   "id": "180a5985",
   "metadata": {},
   "outputs": [
    {
     "data": {
      "text/plain": [
       "(569, 30)"
      ]
     },
     "execution_count": 21,
     "metadata": {},
     "output_type": "execute_result"
    }
   ],
   "source": [
    "X.shape"
   ]
  },
  {
   "cell_type": "code",
   "execution_count": 22,
   "id": "e64b2ecb",
   "metadata": {},
   "outputs": [],
   "source": [
    "tf.random.set_seed(random_seed)\n",
    "model = keras.Sequential()\n",
    "\n",
    "model.add(keras.layers.Dense(units = 10, input_shape = (30, ), activation = 'sigmoid'))\n",
    "#model.add(keras.layers.Dense(units = 5, activation = 'sigmoid'))\n",
    "model.add(keras.layers.Dense(units = 5, activation = 'sigmoid'))\n",
    "model.add(keras.layers.Dense(units = 5, activation = 'sigmoid'))\n",
    "model.add(keras.layers.Dense(units = 1 , activation = 'sigmoid'))"
   ]
  },
  {
   "cell_type": "code",
   "execution_count": 23,
   "id": "495069cd",
   "metadata": {},
   "outputs": [
    {
     "name": "stdout",
     "output_type": "stream",
     "text": [
      "Model: \"sequential\"\n",
      "_________________________________________________________________\n",
      " Layer (type)                Output Shape              Param #   \n",
      "=================================================================\n",
      " dense (Dense)               (None, 10)                310       \n",
      "                                                                 \n",
      " dense_1 (Dense)             (None, 5)                 55        \n",
      "                                                                 \n",
      " dense_2 (Dense)             (None, 5)                 30        \n",
      "                                                                 \n",
      " dense_3 (Dense)             (None, 1)                 6         \n",
      "                                                                 \n",
      "=================================================================\n",
      "Total params: 401\n",
      "Trainable params: 401\n",
      "Non-trainable params: 0\n",
      "_________________________________________________________________\n"
     ]
    }
   ],
   "source": [
    "model.summary()"
   ]
  },
  {
   "cell_type": "code",
   "execution_count": 32,
   "id": "b6cdb7f1",
   "metadata": {},
   "outputs": [],
   "source": [
    "lr = 0.01\n",
    "model.compile(loss = tf.keras.losses.BinaryCrossentropy(),optimizer = keras.optimizers.SGD(learning_rate = lr))"
   ]
  },
  {
   "cell_type": "code",
   "execution_count": 33,
   "id": "04fa4ff1",
   "metadata": {},
   "outputs": [],
   "source": [
    "history = model.fit(Scaled_Train_X, Train_Y, batch_size = 32, epochs = 200, shuffle = True, verbose = 0 ,validation_split = 0.2) \n",
    "# verbose=0,1,2중 선택\n",
    "# validation_split -> validation 데이터의 비율을 결정"
   ]
  },
  {
   "cell_type": "code",
   "execution_count": 34,
   "id": "1779ce6c",
   "metadata": {},
   "outputs": [],
   "source": [
    "train_loss = history.history['loss']\n",
    "vali_loss = history.history['val_loss']"
   ]
  },
  {
   "cell_type": "code",
   "execution_count": 35,
   "id": "9abf0679",
   "metadata": {},
   "outputs": [],
   "source": [
    "epochs = range(1, len(train_loss)+1)"
   ]
  },
  {
   "cell_type": "code",
   "execution_count": 36,
   "id": "27ce8c7d",
   "metadata": {},
   "outputs": [
    {
     "data": {
      "image/png": "[encoded data removed]",
      "text/plain": [
       "<Figure size 432x288 with 1 Axes>"
      ]
     },
     "metadata": {
      "needs_background": "light"
     },
     "output_type": "display_data"
    }
   ],
   "source": [
    "plt.plot(epochs, train_loss, '--b', label = 'Trainig')\n",
    "plt.plot(epochs, vali_loss, '--r', label = 'Validation')\n",
    "plt.legend()\n",
    "plt.show()"
   ]
  },
  {
   "cell_type": "code",
   "execution_count": 37,
   "id": "377a6649",
   "metadata": {},
   "outputs": [],
   "source": [
    "pred = model.predict(Scaled_Test_X)"
   ]
  },
  {
   "cell_type": "code",
   "execution_count": 38,
   "id": "e68a46fd",
   "metadata": {},
   "outputs": [
    {
     "data": {
      "text/plain": [
       "array([[0.6290006 ],\n",
       "       [0.63035333],\n",
       "       [0.62978286],\n",
       "       [0.63017327],\n",
       "       [0.6299384 ],\n",
       "       [0.63063437],\n",
       "       [0.62956506],\n",
       "       [0.6302051 ],\n",
       "       [0.63009065],\n",
       "       [0.6295066 ],\n",
       "       [0.6299581 ],\n",
       "       [0.62950516],\n",
       "       [0.6300876 ],\n",
       "       [0.6305782 ],\n",
       "       [0.6297683 ],\n",
       "       [0.62961125],\n",
       "       [0.62954926],\n",
       "       [0.6295596 ],\n",
       "       [0.6310427 ],\n",
       "       [0.6290803 ],\n",
       "       [0.6295807 ],\n",
       "       [0.6294942 ],\n",
       "       [0.6304574 ],\n",
       "       [0.6293589 ],\n",
       "       [0.62983906],\n",
       "       [0.6301523 ],\n",
       "       [0.6295048 ],\n",
       "       [0.63034296],\n",
       "       [0.6292298 ],\n",
       "       [0.6300426 ],\n",
       "       [0.6298405 ],\n",
       "       [0.6306292 ],\n",
       "       [0.6300313 ],\n",
       "       [0.6291885 ],\n",
       "       [0.6295324 ],\n",
       "       [0.6295728 ],\n",
       "       [0.6295997 ],\n",
       "       [0.62980187],\n",
       "       [0.629671  ],\n",
       "       [0.6299005 ],\n",
       "       [0.6301632 ],\n",
       "       [0.6296242 ],\n",
       "       [0.6299223 ],\n",
       "       [0.6286589 ],\n",
       "       [0.6299014 ],\n",
       "       [0.6302452 ],\n",
       "       [0.6293158 ],\n",
       "       [0.62964594],\n",
       "       [0.6303749 ],\n",
       "       [0.6296495 ],\n",
       "       [0.6299603 ],\n",
       "       [0.62995446],\n",
       "       [0.6301831 ],\n",
       "       [0.6297445 ],\n",
       "       [0.6306195 ],\n",
       "       [0.6291707 ],\n",
       "       [0.6298561 ],\n",
       "       [0.6295856 ],\n",
       "       [0.630103  ],\n",
       "       [0.62986815],\n",
       "       [0.62990564],\n",
       "       [0.6303569 ],\n",
       "       [0.6292739 ],\n",
       "       [0.6297393 ],\n",
       "       [0.62927324],\n",
       "       [0.630151  ],\n",
       "       [0.62977934],\n",
       "       [0.62949824],\n",
       "       [0.63019603],\n",
       "       [0.6297345 ],\n",
       "       [0.6298424 ],\n",
       "       [0.63036484],\n",
       "       [0.62977093],\n",
       "       [0.62993413],\n",
       "       [0.6299539 ],\n",
       "       [0.629537  ],\n",
       "       [0.62932783],\n",
       "       [0.6298048 ],\n",
       "       [0.62944126],\n",
       "       [0.62935936],\n",
       "       [0.62956387],\n",
       "       [0.63020575],\n",
       "       [0.62953174],\n",
       "       [0.62999743],\n",
       "       [0.6295675 ],\n",
       "       [0.6296209 ],\n",
       "       [0.63003963],\n",
       "       [0.629615  ],\n",
       "       [0.6297996 ],\n",
       "       [0.6298401 ],\n",
       "       [0.6299953 ],\n",
       "       [0.6298405 ],\n",
       "       [0.6295229 ],\n",
       "       [0.62981284],\n",
       "       [0.6298538 ],\n",
       "       [0.629944  ],\n",
       "       [0.62997735],\n",
       "       [0.6298377 ],\n",
       "       [0.6302127 ],\n",
       "       [0.62925965],\n",
       "       [0.6300332 ],\n",
       "       [0.629371  ],\n",
       "       [0.6302034 ],\n",
       "       [0.63037807],\n",
       "       [0.6291691 ],\n",
       "       [0.63040745],\n",
       "       [0.62981325],\n",
       "       [0.6296274 ],\n",
       "       [0.6300718 ],\n",
       "       [0.6299697 ],\n",
       "       [0.63026965],\n",
       "       [0.62953484],\n",
       "       [0.6296415 ],\n",
       "       [0.6298979 ],\n",
       "       [0.63012743],\n",
       "       [0.63052195],\n",
       "       [0.6301586 ],\n",
       "       [0.63053656],\n",
       "       [0.6296865 ],\n",
       "       [0.6297037 ],\n",
       "       [0.62987566],\n",
       "       [0.62982154],\n",
       "       [0.62943876],\n",
       "       [0.629847  ],\n",
       "       [0.62991536],\n",
       "       [0.6307104 ],\n",
       "       [0.62951326],\n",
       "       [0.630065  ],\n",
       "       [0.62941736],\n",
       "       [0.62988436],\n",
       "       [0.6304765 ],\n",
       "       [0.6295607 ],\n",
       "       [0.62957054],\n",
       "       [0.62956494],\n",
       "       [0.62942773],\n",
       "       [0.62963873],\n",
       "       [0.6300322 ],\n",
       "       [0.6301614 ],\n",
       "       [0.62995696],\n",
       "       [0.62929326],\n",
       "       [0.62946916],\n",
       "       [0.62991524],\n",
       "       [0.6302985 ]], dtype=float32)"
      ]
     },
     "execution_count": 38,
     "metadata": {},
     "output_type": "execute_result"
    }
   ],
   "source": [
    "pred"
   ]
  },
  {
   "cell_type": "code",
   "execution_count": 43,
   "id": "25619320",
   "metadata": {},
   "outputs": [],
   "source": [
    "pred[pred >= 0.5] = 1\n",
    "pred[pred < 0.5] = 0"
   ]
  },
  {
   "cell_type": "code",
   "execution_count": 44,
   "id": "21aa6b48",
   "metadata": {},
   "outputs": [
    {
     "data": {
      "text/plain": [
       "array([[1.],\n",
       "       [1.],\n",
       "       [1.],\n",
       "       [1.],\n",
       "       [1.],\n",
       "       [1.],\n",
       "       [1.],\n",
       "       [1.],\n",
       "       [1.],\n",
       "       [1.],\n",
       "       [1.],\n",
       "       [1.],\n",
       "       [1.],\n",
       "       [1.],\n",
       "       [1.],\n",
       "       [1.],\n",
       "       [1.],\n",
       "       [1.],\n",
       "       [1.],\n",
       "       [1.],\n",
       "       [1.],\n",
       "       [1.],\n",
       "       [1.],\n",
       "       [1.],\n",
       "       [1.],\n",
       "       [1.],\n",
       "       [1.],\n",
       "       [1.],\n",
       "       [1.],\n",
       "       [1.],\n",
       "       [1.],\n",
       "       [1.],\n",
       "       [1.],\n",
       "       [1.],\n",
       "       [1.],\n",
       "       [1.],\n",
       "       [1.],\n",
       "       [1.],\n",
       "       [1.],\n",
       "       [1.],\n",
       "       [1.],\n",
       "       [1.],\n",
       "       [1.],\n",
       "       [1.],\n",
       "       [1.],\n",
       "       [1.],\n",
       "       [1.],\n",
       "       [1.],\n",
       "       [1.],\n",
       "       [1.],\n",
       "       [1.],\n",
       "       [1.],\n",
       "       [1.],\n",
       "       [1.],\n",
       "       [1.],\n",
       "       [1.],\n",
       "       [1.],\n",
       "       [1.],\n",
       "       [1.],\n",
       "       [1.],\n",
       "       [1.],\n",
       "       [1.],\n",
       "       [1.],\n",
       "       [1.],\n",
       "       [1.],\n",
       "       [1.],\n",
       "       [1.],\n",
       "       [1.],\n",
       "       [1.],\n",
       "       [1.],\n",
       "       [1.],\n",
       "       [1.],\n",
       "       [1.],\n",
       "       [1.],\n",
       "       [1.],\n",
       "       [1.],\n",
       "       [1.],\n",
       "       [1.],\n",
       "       [1.],\n",
       "       [1.],\n",
       "       [1.],\n",
       "       [1.],\n",
       "       [1.],\n",
       "       [1.],\n",
       "       [1.],\n",
       "       [1.],\n",
       "       [1.],\n",
       "       [1.],\n",
       "       [1.],\n",
       "       [1.],\n",
       "       [1.],\n",
       "       [1.],\n",
       "       [1.],\n",
       "       [1.],\n",
       "       [1.],\n",
       "       [1.],\n",
       "       [1.],\n",
       "       [1.],\n",
       "       [1.],\n",
       "       [1.],\n",
       "       [1.],\n",
       "       [1.],\n",
       "       [1.],\n",
       "       [1.],\n",
       "       [1.],\n",
       "       [1.],\n",
       "       [1.],\n",
       "       [1.],\n",
       "       [1.],\n",
       "       [1.],\n",
       "       [1.],\n",
       "       [1.],\n",
       "       [1.],\n",
       "       [1.],\n",
       "       [1.],\n",
       "       [1.],\n",
       "       [1.],\n",
       "       [1.],\n",
       "       [1.],\n",
       "       [1.],\n",
       "       [1.],\n",
       "       [1.],\n",
       "       [1.],\n",
       "       [1.],\n",
       "       [1.],\n",
       "       [1.],\n",
       "       [1.],\n",
       "       [1.],\n",
       "       [1.],\n",
       "       [1.],\n",
       "       [1.],\n",
       "       [1.],\n",
       "       [1.],\n",
       "       [1.],\n",
       "       [1.],\n",
       "       [1.],\n",
       "       [1.],\n",
       "       [1.],\n",
       "       [1.],\n",
       "       [1.],\n",
       "       [1.],\n",
       "       [1.],\n",
       "       [1.]], dtype=float32)"
      ]
     },
     "execution_count": 44,
     "metadata": {},
     "output_type": "execute_result"
    }
   ],
   "source": [
    "pred"
   ]
  },
  {
   "cell_type": "code",
   "execution_count": null,
   "id": "aaf929a1",
   "metadata": {},
   "outputs": [],
   "source": []
  }
 ],
 "metadata": {
  "kernelspec": {
   "display_name": "Python 3",
   "language": "python",
   "name": "python3"
  },
  "language_info": {
   "codemirror_mode": {
    "name": "ipython",
    "version": 3
   },
   "file_extension": ".py",
   "mimetype": "text/x-python",
   "name": "python",
   "nbconvert_exporter": "python",
   "pygments_lexer": "ipython3",
   "version": "3.8.8"
  }
 },
 "nbformat": 4,
 "nbformat_minor": 5
}
